{
 "cells": [
  {
   "cell_type": "code",
   "execution_count": 18,
   "metadata": {},
   "outputs": [],
   "source": [
    "#importing basic libraries\n",
    "import numpy as np\n",
    "import pandas as pd\n",
    "import matplotlib.pyplot as plt\n",
    "import seaborn as sc\n",
    "from sklearn import datasets\n",
    "%matplotlib inline"
   ]
  },
  {
   "cell_type": "code",
   "execution_count": 16,
   "metadata": {},
   "outputs": [],
   "source": [
    "#loading dataset\n",
    "df=pd.read_csv('./iris.csv',header=None,names=['Sepal.Length','Sepal.Width','Petal.Length','Petal.Width','Species'])"
   ]
  },
  {
   "cell_type": "code",
   "execution_count": 17,
   "metadata": {},
   "outputs": [
    {
     "data": {
      "text/html": [
       "<div>\n",
       "<style scoped>\n",
       "    .dataframe tbody tr th:only-of-type {\n",
       "        vertical-align: middle;\n",
       "    }\n",
       "\n",
       "    .dataframe tbody tr th {\n",
       "        vertical-align: top;\n",
       "    }\n",
       "\n",
       "    .dataframe thead th {\n",
       "        text-align: right;\n",
       "    }\n",
       "</style>\n",
       "<table border=\"1\" class=\"dataframe\">\n",
       "  <thead>\n",
       "    <tr style=\"text-align: right;\">\n",
       "      <th></th>\n",
       "      <th>Sepal.Length</th>\n",
       "      <th>Sepal.Width</th>\n",
       "      <th>Petal.Length</th>\n",
       "      <th>Petal.Width</th>\n",
       "      <th>Species</th>\n",
       "    </tr>\n",
       "  </thead>\n",
       "  <tbody>\n",
       "    <tr>\n",
       "      <td>0</td>\n",
       "      <td>5.1</td>\n",
       "      <td>3.5</td>\n",
       "      <td>1.4</td>\n",
       "      <td>0.2</td>\n",
       "      <td>Iris-setosa</td>\n",
       "    </tr>\n",
       "    <tr>\n",
       "      <td>1</td>\n",
       "      <td>4.9</td>\n",
       "      <td>3.0</td>\n",
       "      <td>1.4</td>\n",
       "      <td>0.2</td>\n",
       "      <td>Iris-setosa</td>\n",
       "    </tr>\n",
       "    <tr>\n",
       "      <td>2</td>\n",
       "      <td>4.7</td>\n",
       "      <td>3.2</td>\n",
       "      <td>1.3</td>\n",
       "      <td>0.2</td>\n",
       "      <td>Iris-setosa</td>\n",
       "    </tr>\n",
       "    <tr>\n",
       "      <td>3</td>\n",
       "      <td>4.6</td>\n",
       "      <td>3.1</td>\n",
       "      <td>1.5</td>\n",
       "      <td>0.2</td>\n",
       "      <td>Iris-setosa</td>\n",
       "    </tr>\n",
       "    <tr>\n",
       "      <td>4</td>\n",
       "      <td>5.0</td>\n",
       "      <td>3.6</td>\n",
       "      <td>1.4</td>\n",
       "      <td>0.2</td>\n",
       "      <td>Iris-setosa</td>\n",
       "    </tr>\n",
       "  </tbody>\n",
       "</table>\n",
       "</div>"
      ],
      "text/plain": [
       "   Sepal.Length  Sepal.Width  Petal.Length  Petal.Width      Species\n",
       "0           5.1          3.5           1.4          0.2  Iris-setosa\n",
       "1           4.9          3.0           1.4          0.2  Iris-setosa\n",
       "2           4.7          3.2           1.3          0.2  Iris-setosa\n",
       "3           4.6          3.1           1.5          0.2  Iris-setosa\n",
       "4           5.0          3.6           1.4          0.2  Iris-setosa"
      ]
     },
     "execution_count": 17,
     "metadata": {},
     "output_type": "execute_result"
    }
   ],
   "source": [
    "df.head()"
   ]
  },
  {
   "cell_type": "code",
   "execution_count": 22,
   "metadata": {},
   "outputs": [
    {
     "data": {
      "text/plain": [
       "Sepal.Length    float64\n",
       "Sepal.Width     float64\n",
       "Petal.Length    float64\n",
       "Petal.Width     float64\n",
       "Species          object\n",
       "dtype: object"
      ]
     },
     "execution_count": 22,
     "metadata": {},
     "output_type": "execute_result"
    }
   ],
   "source": [
    "df.dtypes#all the attributes are numeric target is categorical in nature"
   ]
  },
  {
   "cell_type": "code",
   "execution_count": 19,
   "metadata": {},
   "outputs": [
    {
     "data": {
      "text/plain": [
       "(150, 5)"
      ]
     },
     "execution_count": 19,
     "metadata": {},
     "output_type": "execute_result"
    }
   ],
   "source": [
    "#finding the number of rows and columns in the data\n",
    "df.shape #150 rows and 5 cols"
   ]
  },
  {
   "cell_type": "code",
   "execution_count": 20,
   "metadata": {},
   "outputs": [
    {
     "data": {
      "text/html": [
       "<div>\n",
       "<style scoped>\n",
       "    .dataframe tbody tr th:only-of-type {\n",
       "        vertical-align: middle;\n",
       "    }\n",
       "\n",
       "    .dataframe tbody tr th {\n",
       "        vertical-align: top;\n",
       "    }\n",
       "\n",
       "    .dataframe thead th {\n",
       "        text-align: right;\n",
       "    }\n",
       "</style>\n",
       "<table border=\"1\" class=\"dataframe\">\n",
       "  <thead>\n",
       "    <tr style=\"text-align: right;\">\n",
       "      <th></th>\n",
       "      <th>Sepal.Length</th>\n",
       "      <th>Sepal.Width</th>\n",
       "      <th>Petal.Length</th>\n",
       "      <th>Petal.Width</th>\n",
       "      <th>Species</th>\n",
       "    </tr>\n",
       "  </thead>\n",
       "  <tbody>\n",
       "    <tr>\n",
       "      <td>0</td>\n",
       "      <td>5.1</td>\n",
       "      <td>3.5</td>\n",
       "      <td>1.4</td>\n",
       "      <td>0.2</td>\n",
       "      <td>Iris-setosa</td>\n",
       "    </tr>\n",
       "    <tr>\n",
       "      <td>1</td>\n",
       "      <td>4.9</td>\n",
       "      <td>3.0</td>\n",
       "      <td>1.4</td>\n",
       "      <td>0.2</td>\n",
       "      <td>Iris-setosa</td>\n",
       "    </tr>\n",
       "    <tr>\n",
       "      <td>2</td>\n",
       "      <td>4.7</td>\n",
       "      <td>3.2</td>\n",
       "      <td>1.3</td>\n",
       "      <td>0.2</td>\n",
       "      <td>Iris-setosa</td>\n",
       "    </tr>\n",
       "    <tr>\n",
       "      <td>3</td>\n",
       "      <td>4.6</td>\n",
       "      <td>3.1</td>\n",
       "      <td>1.5</td>\n",
       "      <td>0.2</td>\n",
       "      <td>Iris-setosa</td>\n",
       "    </tr>\n",
       "    <tr>\n",
       "      <td>4</td>\n",
       "      <td>5.0</td>\n",
       "      <td>3.6</td>\n",
       "      <td>1.4</td>\n",
       "      <td>0.2</td>\n",
       "      <td>Iris-setosa</td>\n",
       "    </tr>\n",
       "    <tr>\n",
       "      <td>5</td>\n",
       "      <td>5.4</td>\n",
       "      <td>3.9</td>\n",
       "      <td>1.7</td>\n",
       "      <td>0.4</td>\n",
       "      <td>Iris-setosa</td>\n",
       "    </tr>\n",
       "    <tr>\n",
       "      <td>6</td>\n",
       "      <td>4.6</td>\n",
       "      <td>3.4</td>\n",
       "      <td>1.4</td>\n",
       "      <td>0.3</td>\n",
       "      <td>Iris-setosa</td>\n",
       "    </tr>\n",
       "    <tr>\n",
       "      <td>7</td>\n",
       "      <td>5.0</td>\n",
       "      <td>3.4</td>\n",
       "      <td>1.5</td>\n",
       "      <td>0.2</td>\n",
       "      <td>Iris-setosa</td>\n",
       "    </tr>\n",
       "    <tr>\n",
       "      <td>8</td>\n",
       "      <td>4.4</td>\n",
       "      <td>2.9</td>\n",
       "      <td>1.4</td>\n",
       "      <td>0.2</td>\n",
       "      <td>Iris-setosa</td>\n",
       "    </tr>\n",
       "    <tr>\n",
       "      <td>9</td>\n",
       "      <td>4.9</td>\n",
       "      <td>3.1</td>\n",
       "      <td>1.5</td>\n",
       "      <td>0.1</td>\n",
       "      <td>Iris-setosa</td>\n",
       "    </tr>\n",
       "  </tbody>\n",
       "</table>\n",
       "</div>"
      ],
      "text/plain": [
       "   Sepal.Length  Sepal.Width  Petal.Length  Petal.Width      Species\n",
       "0           5.1          3.5           1.4          0.2  Iris-setosa\n",
       "1           4.9          3.0           1.4          0.2  Iris-setosa\n",
       "2           4.7          3.2           1.3          0.2  Iris-setosa\n",
       "3           4.6          3.1           1.5          0.2  Iris-setosa\n",
       "4           5.0          3.6           1.4          0.2  Iris-setosa\n",
       "5           5.4          3.9           1.7          0.4  Iris-setosa\n",
       "6           4.6          3.4           1.4          0.3  Iris-setosa\n",
       "7           5.0          3.4           1.5          0.2  Iris-setosa\n",
       "8           4.4          2.9           1.4          0.2  Iris-setosa\n",
       "9           4.9          3.1           1.5          0.1  Iris-setosa"
      ]
     },
     "execution_count": 20,
     "metadata": {},
     "output_type": "execute_result"
    }
   ],
   "source": [
    "#peeking at your dataset\n",
    "df.head(10) #all the attributes are numeric and \n",
    "#on the same scale hence no need to do any data transformation."
   ]
  },
  {
   "cell_type": "code",
   "execution_count": 21,
   "metadata": {},
   "outputs": [
    {
     "data": {
      "text/html": [
       "<div>\n",
       "<style scoped>\n",
       "    .dataframe tbody tr th:only-of-type {\n",
       "        vertical-align: middle;\n",
       "    }\n",
       "\n",
       "    .dataframe tbody tr th {\n",
       "        vertical-align: top;\n",
       "    }\n",
       "\n",
       "    .dataframe thead th {\n",
       "        text-align: right;\n",
       "    }\n",
       "</style>\n",
       "<table border=\"1\" class=\"dataframe\">\n",
       "  <thead>\n",
       "    <tr style=\"text-align: right;\">\n",
       "      <th></th>\n",
       "      <th>Sepal.Length</th>\n",
       "      <th>Sepal.Width</th>\n",
       "      <th>Petal.Length</th>\n",
       "      <th>Petal.Width</th>\n",
       "    </tr>\n",
       "  </thead>\n",
       "  <tbody>\n",
       "    <tr>\n",
       "      <td>count</td>\n",
       "      <td>150.000000</td>\n",
       "      <td>150.000000</td>\n",
       "      <td>150.000000</td>\n",
       "      <td>150.000000</td>\n",
       "    </tr>\n",
       "    <tr>\n",
       "      <td>mean</td>\n",
       "      <td>5.843333</td>\n",
       "      <td>3.054000</td>\n",
       "      <td>3.758667</td>\n",
       "      <td>1.198667</td>\n",
       "    </tr>\n",
       "    <tr>\n",
       "      <td>std</td>\n",
       "      <td>0.828066</td>\n",
       "      <td>0.433594</td>\n",
       "      <td>1.764420</td>\n",
       "      <td>0.763161</td>\n",
       "    </tr>\n",
       "    <tr>\n",
       "      <td>min</td>\n",
       "      <td>4.300000</td>\n",
       "      <td>2.000000</td>\n",
       "      <td>1.000000</td>\n",
       "      <td>0.100000</td>\n",
       "    </tr>\n",
       "    <tr>\n",
       "      <td>25%</td>\n",
       "      <td>5.100000</td>\n",
       "      <td>2.800000</td>\n",
       "      <td>1.600000</td>\n",
       "      <td>0.300000</td>\n",
       "    </tr>\n",
       "    <tr>\n",
       "      <td>50%</td>\n",
       "      <td>5.800000</td>\n",
       "      <td>3.000000</td>\n",
       "      <td>4.350000</td>\n",
       "      <td>1.300000</td>\n",
       "    </tr>\n",
       "    <tr>\n",
       "      <td>75%</td>\n",
       "      <td>6.400000</td>\n",
       "      <td>3.300000</td>\n",
       "      <td>5.100000</td>\n",
       "      <td>1.800000</td>\n",
       "    </tr>\n",
       "    <tr>\n",
       "      <td>max</td>\n",
       "      <td>7.900000</td>\n",
       "      <td>4.400000</td>\n",
       "      <td>6.900000</td>\n",
       "      <td>2.500000</td>\n",
       "    </tr>\n",
       "  </tbody>\n",
       "</table>\n",
       "</div>"
      ],
      "text/plain": [
       "       Sepal.Length  Sepal.Width  Petal.Length  Petal.Width\n",
       "count    150.000000   150.000000    150.000000   150.000000\n",
       "mean       5.843333     3.054000      3.758667     1.198667\n",
       "std        0.828066     0.433594      1.764420     0.763161\n",
       "min        4.300000     2.000000      1.000000     0.100000\n",
       "25%        5.100000     2.800000      1.600000     0.300000\n",
       "50%        5.800000     3.000000      4.350000     1.300000\n",
       "75%        6.400000     3.300000      5.100000     1.800000\n",
       "max        7.900000     4.400000      6.900000     2.500000"
      ]
     },
     "execution_count": 21,
     "metadata": {},
     "output_type": "execute_result"
    }
   ],
   "source": [
    "#checking the stats summary of our data\n",
    "df.describe()\n",
    "#we can see that all the attributes are numeric in nature\n",
    "#the range of values each attibute is taking is between 0-8 hence they are all\n",
    "#on the same scale no need to do any data transformation. (look at max and min vals)"
   ]
  },
  {
   "cell_type": "code",
   "execution_count": 31,
   "metadata": {},
   "outputs": [
    {
     "data": {
      "text/plain": [
       "Species\n",
       "Iris-setosa        50\n",
       "Iris-versicolor    50\n",
       "Iris-virginica     50\n",
       "dtype: int64"
      ]
     },
     "execution_count": 31,
     "metadata": {},
     "output_type": "execute_result"
    }
   ],
   "source": [
    "#breakdown of data by class ,checking for any class imbalance if present.\n",
    "df.groupby(by='Species').size()"
   ]
  },
  {
   "cell_type": "code",
   "execution_count": 33,
   "metadata": {},
   "outputs": [
    {
     "data": {
      "image/png": "[encoded data removed]",
      "text/plain": [
       "<Figure size 432x288 with 4 Axes>"
      ]
     },
     "metadata": {
      "needs_background": "light"
     },
     "output_type": "display_data"
    }
   ],
   "source": [
    "#visualization \n",
    "#univariate and multivariate analysis\n",
    "\n",
    "df.plot(kind='box',subplots=True,layout=(2,2),sharex=False,sharey=False)\n",
    "plt.show()\n",
    "#we can see that there are a few outliers present in sepal.width"
   ]
  },
  {
   "cell_type": "code",
   "execution_count": 34,
   "metadata": {},
   "outputs": [
    {
     "data": {
      "image/png": "[encoded data removed]",
      "text/plain": [
       "<Figure size 432x288 with 4 Axes>"
      ]
     },
     "metadata": {
      "needs_background": "light"
     },
     "output_type": "display_data"
    }
   ],
   "source": [
    "#we can also generate a histogram to get an idea of the distribution\n",
    "df.hist()\n",
    "plt.show()\n",
    "#we can see that some of the attributes have a kind-off gaussian distribution"
   ]
  },
  {
   "cell_type": "code",
   "execution_count": 35,
   "metadata": {},
   "outputs": [
    {
     "data": {
      "text/plain": [
       "<seaborn.axisgrid.PairGrid at 0x1c474438>"
      ]
     },
     "execution_count": 35,
     "metadata": {},
     "output_type": "execute_result"
    },
    {
     "data": {
      "image/png": "[encoded data removed]",
      "text/plain": [
       "<Figure size 720x720 with 20 Axes>"
      ]
     },
     "metadata": {
      "needs_background": "light"
     },
     "output_type": "display_data"
    }
   ],
   "source": [
    "#multivariate plots\n",
    "sc.pairplot(df)\n",
    "#we are trying to look a the structured relationships between\n",
    "#the input variables\n",
    "#looking at the attributes we can see high correlation in between them which suggests a strong relationship."
   ]
  },
  {
   "cell_type": "code",
   "execution_count": 38,
   "metadata": {},
   "outputs": [
    {
     "data": {
      "text/plain": [
       "array([[5.1, 3.5, 1.4, 0.2, 'Iris-setosa'],\n",
       "       [4.9, 3.0, 1.4, 0.2, 'Iris-setosa'],\n",
       "       [4.7, 3.2, 1.3, 0.2, 'Iris-setosa'],\n",
       "       [4.6, 3.1, 1.5, 0.2, 'Iris-setosa'],\n",
       "       [5.0, 3.6, 1.4, 0.2, 'Iris-setosa'],\n",
       "       [5.4, 3.9, 1.7, 0.4, 'Iris-setosa'],\n",
       "       [4.6, 3.4, 1.4, 0.3, 'Iris-setosa'],\n",
       "       [5.0, 3.4, 1.5, 0.2, 'Iris-setosa'],\n",
       "       [4.4, 2.9, 1.4, 0.2, 'Iris-setosa'],\n",
       "       [4.9, 3.1, 1.5, 0.1, 'Iris-setosa'],\n",
       "       [5.4, 3.7, 1.5, 0.2, 'Iris-setosa'],\n",
       "       [4.8, 3.4, 1.6, 0.2, 'Iris-setosa'],\n",
       "       [4.8, 3.0, 1.4, 0.1, 'Iris-setosa'],\n",
       "       [4.3, 3.0, 1.1, 0.1, 'Iris-setosa'],\n",
       "       [5.8, 4.0, 1.2, 0.2, 'Iris-setosa'],\n",
       "       [5.7, 4.4, 1.5, 0.4, 'Iris-setosa'],\n",
       "       [5.4, 3.9, 1.3, 0.4, 'Iris-setosa'],\n",
       "       [5.1, 3.5, 1.4, 0.3, 'Iris-setosa'],\n",
       "       [5.7, 3.8, 1.7, 0.3, 'Iris-setosa'],\n",
       "       [5.1, 3.8, 1.5, 0.3, 'Iris-setosa'],\n",
       "       [5.4, 3.4, 1.7, 0.2, 'Iris-setosa'],\n",
       "       [5.1, 3.7, 1.5, 0.4, 'Iris-setosa'],\n",
       "       [4.6, 3.6, 1.0, 0.2, 'Iris-setosa'],\n",
       "       [5.1, 3.3, 1.7, 0.5, 'Iris-setosa'],\n",
       "       [4.8, 3.4, 1.9, 0.2, 'Iris-setosa'],\n",
       "       [5.0, 3.0, 1.6, 0.2, 'Iris-setosa'],\n",
       "       [5.0, 3.4, 1.6, 0.4, 'Iris-setosa'],\n",
       "       [5.2, 3.5, 1.5, 0.2, 'Iris-setosa'],\n",
       "       [5.2, 3.4, 1.4, 0.2, 'Iris-setosa'],\n",
       "       [4.7, 3.2, 1.6, 0.2, 'Iris-setosa'],\n",
       "       [4.8, 3.1, 1.6, 0.2, 'Iris-setosa'],\n",
       "       [5.4, 3.4, 1.5, 0.4, 'Iris-setosa'],\n",
       "       [5.2, 4.1, 1.5, 0.1, 'Iris-setosa'],\n",
       "       [5.5, 4.2, 1.4, 0.2, 'Iris-setosa'],\n",
       "       [4.9, 3.1, 1.5, 0.1, 'Iris-setosa'],\n",
       "       [5.0, 3.2, 1.2, 0.2, 'Iris-setosa'],\n",
       "       [5.5, 3.5, 1.3, 0.2, 'Iris-setosa'],\n",
       "       [4.9, 3.1, 1.5, 0.1, 'Iris-setosa'],\n",
       "       [4.4, 3.0, 1.3, 0.2, 'Iris-setosa'],\n",
       "       [5.1, 3.4, 1.5, 0.2, 'Iris-setosa'],\n",
       "       [5.0, 3.5, 1.3, 0.3, 'Iris-setosa'],\n",
       "       [4.5, 2.3, 1.3, 0.3, 'Iris-setosa'],\n",
       "       [4.4, 3.2, 1.3, 0.2, 'Iris-setosa'],\n",
       "       [5.0, 3.5, 1.6, 0.6, 'Iris-setosa'],\n",
       "       [5.1, 3.8, 1.9, 0.4, 'Iris-setosa'],\n",
       "       [4.8, 3.0, 1.4, 0.3, 'Iris-setosa'],\n",
       "       [5.1, 3.8, 1.6, 0.2, 'Iris-setosa'],\n",
       "       [4.6, 3.2, 1.4, 0.2, 'Iris-setosa'],\n",
       "       [5.3, 3.7, 1.5, 0.2, 'Iris-setosa'],\n",
       "       [5.0, 3.3, 1.4, 0.2, 'Iris-setosa'],\n",
       "       [7.0, 3.2, 4.7, 1.4, 'Iris-versicolor'],\n",
       "       [6.4, 3.2, 4.5, 1.5, 'Iris-versicolor'],\n",
       "       [6.9, 3.1, 4.9, 1.5, 'Iris-versicolor'],\n",
       "       [5.5, 2.3, 4.0, 1.3, 'Iris-versicolor'],\n",
       "       [6.5, 2.8, 4.6, 1.5, 'Iris-versicolor'],\n",
       "       [5.7, 2.8, 4.5, 1.3, 'Iris-versicolor'],\n",
       "       [6.3, 3.3, 4.7, 1.6, 'Iris-versicolor'],\n",
       "       [4.9, 2.4, 3.3, 1.0, 'Iris-versicolor'],\n",
       "       [6.6, 2.9, 4.6, 1.3, 'Iris-versicolor'],\n",
       "       [5.2, 2.7, 3.9, 1.4, 'Iris-versicolor'],\n",
       "       [5.0, 2.0, 3.5, 1.0, 'Iris-versicolor'],\n",
       "       [5.9, 3.0, 4.2, 1.5, 'Iris-versicolor'],\n",
       "       [6.0, 2.2, 4.0, 1.0, 'Iris-versicolor'],\n",
       "       [6.1, 2.9, 4.7, 1.4, 'Iris-versicolor'],\n",
       "       [5.6, 2.9, 3.6, 1.3, 'Iris-versicolor'],\n",
       "       [6.7, 3.1, 4.4, 1.4, 'Iris-versicolor'],\n",
       "       [5.6, 3.0, 4.5, 1.5, 'Iris-versicolor'],\n",
       "       [5.8, 2.7, 4.1, 1.0, 'Iris-versicolor'],\n",
       "       [6.2, 2.2, 4.5, 1.5, 'Iris-versicolor'],\n",
       "       [5.6, 2.5, 3.9, 1.1, 'Iris-versicolor'],\n",
       "       [5.9, 3.2, 4.8, 1.8, 'Iris-versicolor'],\n",
       "       [6.1, 2.8, 4.0, 1.3, 'Iris-versicolor'],\n",
       "       [6.3, 2.5, 4.9, 1.5, 'Iris-versicolor'],\n",
       "       [6.1, 2.8, 4.7, 1.2, 'Iris-versicolor'],\n",
       "       [6.4, 2.9, 4.3, 1.3, 'Iris-versicolor'],\n",
       "       [6.6, 3.0, 4.4, 1.4, 'Iris-versicolor'],\n",
       "       [6.8, 2.8, 4.8, 1.4, 'Iris-versicolor'],\n",
       "       [6.7, 3.0, 5.0, 1.7, 'Iris-versicolor'],\n",
       "       [6.0, 2.9, 4.5, 1.5, 'Iris-versicolor'],\n",
       "       [5.7, 2.6, 3.5, 1.0, 'Iris-versicolor'],\n",
       "       [5.5, 2.4, 3.8, 1.1, 'Iris-versicolor'],\n",
       "       [5.5, 2.4, 3.7, 1.0, 'Iris-versicolor'],\n",
       "       [5.8, 2.7, 3.9, 1.2, 'Iris-versicolor'],\n",
       "       [6.0, 2.7, 5.1, 1.6, 'Iris-versicolor'],\n",
       "       [5.4, 3.0, 4.5, 1.5, 'Iris-versicolor'],\n",
       "       [6.0, 3.4, 4.5, 1.6, 'Iris-versicolor'],\n",
       "       [6.7, 3.1, 4.7, 1.5, 'Iris-versicolor'],\n",
       "       [6.3, 2.3, 4.4, 1.3, 'Iris-versicolor'],\n",
       "       [5.6, 3.0, 4.1, 1.3, 'Iris-versicolor'],\n",
       "       [5.5, 2.5, 4.0, 1.3, 'Iris-versicolor'],\n",
       "       [5.5, 2.6, 4.4, 1.2, 'Iris-versicolor'],\n",
       "       [6.1, 3.0, 4.6, 1.4, 'Iris-versicolor'],\n",
       "       [5.8, 2.6, 4.0, 1.2, 'Iris-versicolor'],\n",
       "       [5.0, 2.3, 3.3, 1.0, 'Iris-versicolor'],\n",
       "       [5.6, 2.7, 4.2, 1.3, 'Iris-versicolor'],\n",
       "       [5.7, 3.0, 4.2, 1.2, 'Iris-versicolor'],\n",
       "       [5.7, 2.9, 4.2, 1.3, 'Iris-versicolor'],\n",
       "       [6.2, 2.9, 4.3, 1.3, 'Iris-versicolor'],\n",
       "       [5.1, 2.5, 3.0, 1.1, 'Iris-versicolor'],\n",
       "       [5.7, 2.8, 4.1, 1.3, 'Iris-versicolor'],\n",
       "       [6.3, 3.3, 6.0, 2.5, 'Iris-virginica'],\n",
       "       [5.8, 2.7, 5.1, 1.9, 'Iris-virginica'],\n",
       "       [7.1, 3.0, 5.9, 2.1, 'Iris-virginica'],\n",
       "       [6.3, 2.9, 5.6, 1.8, 'Iris-virginica'],\n",
       "       [6.5, 3.0, 5.8, 2.2, 'Iris-virginica'],\n",
       "       [7.6, 3.0, 6.6, 2.1, 'Iris-virginica'],\n",
       "       [4.9, 2.5, 4.5, 1.7, 'Iris-virginica'],\n",
       "       [7.3, 2.9, 6.3, 1.8, 'Iris-virginica'],\n",
       "       [6.7, 2.5, 5.8, 1.8, 'Iris-virginica'],\n",
       "       [7.2, 3.6, 6.1, 2.5, 'Iris-virginica'],\n",
       "       [6.5, 3.2, 5.1, 2.0, 'Iris-virginica'],\n",
       "       [6.4, 2.7, 5.3, 1.9, 'Iris-virginica'],\n",
       "       [6.8, 3.0, 5.5, 2.1, 'Iris-virginica'],\n",
       "       [5.7, 2.5, 5.0, 2.0, 'Iris-virginica'],\n",
       "       [5.8, 2.8, 5.1, 2.4, 'Iris-virginica'],\n",
       "       [6.4, 3.2, 5.3, 2.3, 'Iris-virginica'],\n",
       "       [6.5, 3.0, 5.5, 1.8, 'Iris-virginica'],\n",
       "       [7.7, 3.8, 6.7, 2.2, 'Iris-virginica'],\n",
       "       [7.7, 2.6, 6.9, 2.3, 'Iris-virginica'],\n",
       "       [6.0, 2.2, 5.0, 1.5, 'Iris-virginica'],\n",
       "       [6.9, 3.2, 5.7, 2.3, 'Iris-virginica'],\n",
       "       [5.6, 2.8, 4.9, 2.0, 'Iris-virginica'],\n",
       "       [7.7, 2.8, 6.7, 2.0, 'Iris-virginica'],\n",
       "       [6.3, 2.7, 4.9, 1.8, 'Iris-virginica'],\n",
       "       [6.7, 3.3, 5.7, 2.1, 'Iris-virginica'],\n",
       "       [7.2, 3.2, 6.0, 1.8, 'Iris-virginica'],\n",
       "       [6.2, 2.8, 4.8, 1.8, 'Iris-virginica'],\n",
       "       [6.1, 3.0, 4.9, 1.8, 'Iris-virginica'],\n",
       "       [6.4, 2.8, 5.6, 2.1, 'Iris-virginica'],\n",
       "       [7.2, 3.0, 5.8, 1.6, 'Iris-virginica'],\n",
       "       [7.4, 2.8, 6.1, 1.9, 'Iris-virginica'],\n",
       "       [7.9, 3.8, 6.4, 2.0, 'Iris-virginica'],\n",
       "       [6.4, 2.8, 5.6, 2.2, 'Iris-virginica'],\n",
       "       [6.3, 2.8, 5.1, 1.5, 'Iris-virginica'],\n",
       "       [6.1, 2.6, 5.6, 1.4, 'Iris-virginica'],\n",
       "       [7.7, 3.0, 6.1, 2.3, 'Iris-virginica'],\n",
       "       [6.3, 3.4, 5.6, 2.4, 'Iris-virginica'],\n",
       "       [6.4, 3.1, 5.5, 1.8, 'Iris-virginica'],\n",
       "       [6.0, 3.0, 4.8, 1.8, 'Iris-virginica'],\n",
       "       [6.9, 3.1, 5.4, 2.1, 'Iris-virginica'],\n",
       "       [6.7, 3.1, 5.6, 2.4, 'Iris-virginica'],\n",
       "       [6.9, 3.1, 5.1, 2.3, 'Iris-virginica'],\n",
       "       [5.8, 2.7, 5.1, 1.9, 'Iris-virginica'],\n",
       "       [6.8, 3.2, 5.9, 2.3, 'Iris-virginica'],\n",
       "       [6.7, 3.3, 5.7, 2.5, 'Iris-virginica'],\n",
       "       [6.7, 3.0, 5.2, 2.3, 'Iris-virginica'],\n",
       "       [6.3, 2.5, 5.0, 1.9, 'Iris-virginica'],\n",
       "       [6.5, 3.0, 5.2, 2.0, 'Iris-virginica'],\n",
       "       [6.2, 3.4, 5.4, 2.3, 'Iris-virginica'],\n",
       "       [5.9, 3.0, 5.1, 1.8, 'Iris-virginica']], dtype=object)"
      ]
     },
     "execution_count": 38,
     "metadata": {},
     "output_type": "execute_result"
    }
   ],
   "source": [
    "#evaluate a few algorithms\n",
    "#building your validation set\n",
    "vals=df.values\n",
    "vals"
   ]
  },
  {
   "cell_type": "code",
   "execution_count": 41,
   "metadata": {},
   "outputs": [
    {
     "data": {
      "text/plain": [
       "array([[5.1, 3.5, 1.4, 0.2],\n",
       "       [4.9, 3.0, 1.4, 0.2],\n",
       "       [4.7, 3.2, 1.3, 0.2],\n",
       "       [4.6, 3.1, 1.5, 0.2],\n",
       "       [5.0, 3.6, 1.4, 0.2],\n",
       "       [5.4, 3.9, 1.7, 0.4],\n",
       "       [4.6, 3.4, 1.4, 0.3],\n",
       "       [5.0, 3.4, 1.5, 0.2],\n",
       "       [4.4, 2.9, 1.4, 0.2],\n",
       "       [4.9, 3.1, 1.5, 0.1],\n",
       "       [5.4, 3.7, 1.5, 0.2],\n",
       "       [4.8, 3.4, 1.6, 0.2],\n",
       "       [4.8, 3.0, 1.4, 0.1],\n",
       "       [4.3, 3.0, 1.1, 0.1],\n",
       "       [5.8, 4.0, 1.2, 0.2],\n",
       "       [5.7, 4.4, 1.5, 0.4],\n",
       "       [5.4, 3.9, 1.3, 0.4],\n",
       "       [5.1, 3.5, 1.4, 0.3],\n",
       "       [5.7, 3.8, 1.7, 0.3],\n",
       "       [5.1, 3.8, 1.5, 0.3],\n",
       "       [5.4, 3.4, 1.7, 0.2],\n",
       "       [5.1, 3.7, 1.5, 0.4],\n",
       "       [4.6, 3.6, 1.0, 0.2],\n",
       "       [5.1, 3.3, 1.7, 0.5],\n",
       "       [4.8, 3.4, 1.9, 0.2],\n",
       "       [5.0, 3.0, 1.6, 0.2],\n",
       "       [5.0, 3.4, 1.6, 0.4],\n",
       "       [5.2, 3.5, 1.5, 0.2],\n",
       "       [5.2, 3.4, 1.4, 0.2],\n",
       "       [4.7, 3.2, 1.6, 0.2],\n",
       "       [4.8, 3.1, 1.6, 0.2],\n",
       "       [5.4, 3.4, 1.5, 0.4],\n",
       "       [5.2, 4.1, 1.5, 0.1],\n",
       "       [5.5, 4.2, 1.4, 0.2],\n",
       "       [4.9, 3.1, 1.5, 0.1],\n",
       "       [5.0, 3.2, 1.2, 0.2],\n",
       "       [5.5, 3.5, 1.3, 0.2],\n",
       "       [4.9, 3.1, 1.5, 0.1],\n",
       "       [4.4, 3.0, 1.3, 0.2],\n",
       "       [5.1, 3.4, 1.5, 0.2],\n",
       "       [5.0, 3.5, 1.3, 0.3],\n",
       "       [4.5, 2.3, 1.3, 0.3],\n",
       "       [4.4, 3.2, 1.3, 0.2],\n",
       "       [5.0, 3.5, 1.6, 0.6],\n",
       "       [5.1, 3.8, 1.9, 0.4],\n",
       "       [4.8, 3.0, 1.4, 0.3],\n",
       "       [5.1, 3.8, 1.6, 0.2],\n",
       "       [4.6, 3.2, 1.4, 0.2],\n",
       "       [5.3, 3.7, 1.5, 0.2],\n",
       "       [5.0, 3.3, 1.4, 0.2],\n",
       "       [7.0, 3.2, 4.7, 1.4],\n",
       "       [6.4, 3.2, 4.5, 1.5],\n",
       "       [6.9, 3.1, 4.9, 1.5],\n",
       "       [5.5, 2.3, 4.0, 1.3],\n",
       "       [6.5, 2.8, 4.6, 1.5],\n",
       "       [5.7, 2.8, 4.5, 1.3],\n",
       "       [6.3, 3.3, 4.7, 1.6],\n",
       "       [4.9, 2.4, 3.3, 1.0],\n",
       "       [6.6, 2.9, 4.6, 1.3],\n",
       "       [5.2, 2.7, 3.9, 1.4],\n",
       "       [5.0, 2.0, 3.5, 1.0],\n",
       "       [5.9, 3.0, 4.2, 1.5],\n",
       "       [6.0, 2.2, 4.0, 1.0],\n",
       "       [6.1, 2.9, 4.7, 1.4],\n",
       "       [5.6, 2.9, 3.6, 1.3],\n",
       "       [6.7, 3.1, 4.4, 1.4],\n",
       "       [5.6, 3.0, 4.5, 1.5],\n",
       "       [5.8, 2.7, 4.1, 1.0],\n",
       "       [6.2, 2.2, 4.5, 1.5],\n",
       "       [5.6, 2.5, 3.9, 1.1],\n",
       "       [5.9, 3.2, 4.8, 1.8],\n",
       "       [6.1, 2.8, 4.0, 1.3],\n",
       "       [6.3, 2.5, 4.9, 1.5],\n",
       "       [6.1, 2.8, 4.7, 1.2],\n",
       "       [6.4, 2.9, 4.3, 1.3],\n",
       "       [6.6, 3.0, 4.4, 1.4],\n",
       "       [6.8, 2.8, 4.8, 1.4],\n",
       "       [6.7, 3.0, 5.0, 1.7],\n",
       "       [6.0, 2.9, 4.5, 1.5],\n",
       "       [5.7, 2.6, 3.5, 1.0],\n",
       "       [5.5, 2.4, 3.8, 1.1],\n",
       "       [5.5, 2.4, 3.7, 1.0],\n",
       "       [5.8, 2.7, 3.9, 1.2],\n",
       "       [6.0, 2.7, 5.1, 1.6],\n",
       "       [5.4, 3.0, 4.5, 1.5],\n",
       "       [6.0, 3.4, 4.5, 1.6],\n",
       "       [6.7, 3.1, 4.7, 1.5],\n",
       "       [6.3, 2.3, 4.4, 1.3],\n",
       "       [5.6, 3.0, 4.1, 1.3],\n",
       "       [5.5, 2.5, 4.0, 1.3],\n",
       "       [5.5, 2.6, 4.4, 1.2],\n",
       "       [6.1, 3.0, 4.6, 1.4],\n",
       "       [5.8, 2.6, 4.0, 1.2],\n",
       "       [5.0, 2.3, 3.3, 1.0],\n",
       "       [5.6, 2.7, 4.2, 1.3],\n",
       "       [5.7, 3.0, 4.2, 1.2],\n",
       "       [5.7, 2.9, 4.2, 1.3],\n",
       "       [6.2, 2.9, 4.3, 1.3],\n",
       "       [5.1, 2.5, 3.0, 1.1],\n",
       "       [5.7, 2.8, 4.1, 1.3],\n",
       "       [6.3, 3.3, 6.0, 2.5],\n",
       "       [5.8, 2.7, 5.1, 1.9],\n",
       "       [7.1, 3.0, 5.9, 2.1],\n",
       "       [6.3, 2.9, 5.6, 1.8],\n",
       "       [6.5, 3.0, 5.8, 2.2],\n",
       "       [7.6, 3.0, 6.6, 2.1],\n",
       "       [4.9, 2.5, 4.5, 1.7],\n",
       "       [7.3, 2.9, 6.3, 1.8],\n",
       "       [6.7, 2.5, 5.8, 1.8],\n",
       "       [7.2, 3.6, 6.1, 2.5],\n",
       "       [6.5, 3.2, 5.1, 2.0],\n",
       "       [6.4, 2.7, 5.3, 1.9],\n",
       "       [6.8, 3.0, 5.5, 2.1],\n",
       "       [5.7, 2.5, 5.0, 2.0],\n",
       "       [5.8, 2.8, 5.1, 2.4],\n",
       "       [6.4, 3.2, 5.3, 2.3],\n",
       "       [6.5, 3.0, 5.5, 1.8],\n",
       "       [7.7, 3.8, 6.7, 2.2],\n",
       "       [7.7, 2.6, 6.9, 2.3],\n",
       "       [6.0, 2.2, 5.0, 1.5],\n",
       "       [6.9, 3.2, 5.7, 2.3],\n",
       "       [5.6, 2.8, 4.9, 2.0],\n",
       "       [7.7, 2.8, 6.7, 2.0],\n",
       "       [6.3, 2.7, 4.9, 1.8],\n",
       "       [6.7, 3.3, 5.7, 2.1],\n",
       "       [7.2, 3.2, 6.0, 1.8],\n",
       "       [6.2, 2.8, 4.8, 1.8],\n",
       "       [6.1, 3.0, 4.9, 1.8],\n",
       "       [6.4, 2.8, 5.6, 2.1],\n",
       "       [7.2, 3.0, 5.8, 1.6],\n",
       "       [7.4, 2.8, 6.1, 1.9],\n",
       "       [7.9, 3.8, 6.4, 2.0],\n",
       "       [6.4, 2.8, 5.6, 2.2],\n",
       "       [6.3, 2.8, 5.1, 1.5],\n",
       "       [6.1, 2.6, 5.6, 1.4],\n",
       "       [7.7, 3.0, 6.1, 2.3],\n",
       "       [6.3, 3.4, 5.6, 2.4],\n",
       "       [6.4, 3.1, 5.5, 1.8],\n",
       "       [6.0, 3.0, 4.8, 1.8],\n",
       "       [6.9, 3.1, 5.4, 2.1],\n",
       "       [6.7, 3.1, 5.6, 2.4],\n",
       "       [6.9, 3.1, 5.1, 2.3],\n",
       "       [5.8, 2.7, 5.1, 1.9],\n",
       "       [6.8, 3.2, 5.9, 2.3],\n",
       "       [6.7, 3.3, 5.7, 2.5],\n",
       "       [6.7, 3.0, 5.2, 2.3],\n",
       "       [6.3, 2.5, 5.0, 1.9],\n",
       "       [6.5, 3.0, 5.2, 2.0],\n",
       "       [6.2, 3.4, 5.4, 2.3],\n",
       "       [5.9, 3.0, 5.1, 1.8]], dtype=object)"
      ]
     },
     "execution_count": 41,
     "metadata": {},
     "output_type": "execute_result"
    }
   ],
   "source": [
    "X=vals[:,0:4]\n",
    "X"
   ]
  },
  {
   "cell_type": "code",
   "execution_count": 44,
   "metadata": {},
   "outputs": [
    {
     "data": {
      "text/plain": [
       "array(['Iris-setosa', 'Iris-setosa', 'Iris-setosa', 'Iris-setosa',\n",
       "       'Iris-setosa', 'Iris-setosa', 'Iris-setosa', 'Iris-setosa',\n",
       "       'Iris-setosa', 'Iris-setosa', 'Iris-setosa', 'Iris-setosa',\n",
       "       'Iris-setosa', 'Iris-setosa', 'Iris-setosa', 'Iris-setosa',\n",
       "       'Iris-setosa', 'Iris-setosa', 'Iris-setosa', 'Iris-setosa',\n",
       "       'Iris-setosa', 'Iris-setosa', 'Iris-setosa', 'Iris-setosa',\n",
       "       'Iris-setosa', 'Iris-setosa', 'Iris-setosa', 'Iris-setosa',\n",
       "       'Iris-setosa', 'Iris-setosa', 'Iris-setosa', 'Iris-setosa',\n",
       "       'Iris-setosa', 'Iris-setosa', 'Iris-setosa', 'Iris-setosa',\n",
       "       'Iris-setosa', 'Iris-setosa', 'Iris-setosa', 'Iris-setosa',\n",
       "       'Iris-setosa', 'Iris-setosa', 'Iris-setosa', 'Iris-setosa',\n",
       "       'Iris-setosa', 'Iris-setosa', 'Iris-setosa', 'Iris-setosa',\n",
       "       'Iris-setosa', 'Iris-setosa', 'Iris-versicolor', 'Iris-versicolor',\n",
       "       'Iris-versicolor', 'Iris-versicolor', 'Iris-versicolor',\n",
       "       'Iris-versicolor', 'Iris-versicolor', 'Iris-versicolor',\n",
       "       'Iris-versicolor', 'Iris-versicolor', 'Iris-versicolor',\n",
       "       'Iris-versicolor', 'Iris-versicolor', 'Iris-versicolor',\n",
       "       'Iris-versicolor', 'Iris-versicolor', 'Iris-versicolor',\n",
       "       'Iris-versicolor', 'Iris-versicolor', 'Iris-versicolor',\n",
       "       'Iris-versicolor', 'Iris-versicolor', 'Iris-versicolor',\n",
       "       'Iris-versicolor', 'Iris-versicolor', 'Iris-versicolor',\n",
       "       'Iris-versicolor', 'Iris-versicolor', 'Iris-versicolor',\n",
       "       'Iris-versicolor', 'Iris-versicolor', 'Iris-versicolor',\n",
       "       'Iris-versicolor', 'Iris-versicolor', 'Iris-versicolor',\n",
       "       'Iris-versicolor', 'Iris-versicolor', 'Iris-versicolor',\n",
       "       'Iris-versicolor', 'Iris-versicolor', 'Iris-versicolor',\n",
       "       'Iris-versicolor', 'Iris-versicolor', 'Iris-versicolor',\n",
       "       'Iris-versicolor', 'Iris-versicolor', 'Iris-versicolor',\n",
       "       'Iris-versicolor', 'Iris-versicolor', 'Iris-versicolor',\n",
       "       'Iris-virginica', 'Iris-virginica', 'Iris-virginica',\n",
       "       'Iris-virginica', 'Iris-virginica', 'Iris-virginica',\n",
       "       'Iris-virginica', 'Iris-virginica', 'Iris-virginica',\n",
       "       'Iris-virginica', 'Iris-virginica', 'Iris-virginica',\n",
       "       'Iris-virginica', 'Iris-virginica', 'Iris-virginica',\n",
       "       'Iris-virginica', 'Iris-virginica', 'Iris-virginica',\n",
       "       'Iris-virginica', 'Iris-virginica', 'Iris-virginica',\n",
       "       'Iris-virginica', 'Iris-virginica', 'Iris-virginica',\n",
       "       'Iris-virginica', 'Iris-virginica', 'Iris-virginica',\n",
       "       'Iris-virginica', 'Iris-virginica', 'Iris-virginica',\n",
       "       'Iris-virginica', 'Iris-virginica', 'Iris-virginica',\n",
       "       'Iris-virginica', 'Iris-virginica', 'Iris-virginica',\n",
       "       'Iris-virginica', 'Iris-virginica', 'Iris-virginica',\n",
       "       'Iris-virginica', 'Iris-virginica', 'Iris-virginica',\n",
       "       'Iris-virginica', 'Iris-virginica', 'Iris-virginica',\n",
       "       'Iris-virginica', 'Iris-virginica', 'Iris-virginica',\n",
       "       'Iris-virginica', 'Iris-virginica'], dtype=object)"
      ]
     },
     "execution_count": 44,
     "metadata": {},
     "output_type": "execute_result"
    }
   ],
   "source": [
    "Y=vals[:,4]\n",
    "Y"
   ]
  },
  {
   "cell_type": "code",
   "execution_count": 45,
   "metadata": {},
   "outputs": [],
   "source": [
    "#creating validation set\n",
    "#importing sklearn libraries\n",
    "from sklearn.model_selection import train_test_split\n",
    "from sklearn.model_selection import KFold\n",
    "from sklearn.model_selection import cross_val_score\n",
    "#moving ahead from here we will use 10 fold cross validation"
   ]
  },
  {
   "cell_type": "code",
   "execution_count": 46,
   "metadata": {},
   "outputs": [],
   "source": [
    "X_train,X_test,Y_train,Y_test=train_test_split(X,Y,test_size=0.2,random_state=7)"
   ]
  },
  {
   "cell_type": "code",
   "execution_count": 51,
   "metadata": {},
   "outputs": [
    {
     "data": {
      "text/plain": [
       "array([[6.2, 2.8, 4.8, 1.8],\n",
       "       [5.7, 2.6, 3.5, 1.0],\n",
       "       [4.6, 3.6, 1.0, 0.2],\n",
       "       [6.9, 3.1, 5.4, 2.1],\n",
       "       [6.4, 2.9, 4.3, 1.3]], dtype=object)"
      ]
     },
     "execution_count": 51,
     "metadata": {},
     "output_type": "execute_result"
    }
   ],
   "source": [
    "X_train[0:5,:]"
   ]
  },
  {
   "cell_type": "code",
   "execution_count": 59,
   "metadata": {},
   "outputs": [
    {
     "data": {
      "text/plain": [
       "array(['Iris-virginica', 'Iris-versicolor', 'Iris-setosa',\n",
       "       'Iris-versicolor', 'Iris-virginica'], dtype=object)"
      ]
     },
     "execution_count": 59,
     "metadata": {},
     "output_type": "execute_result"
    }
   ],
   "source": [
    "Y_test[0:5,]"
   ]
  },
  {
   "cell_type": "code",
   "execution_count": 60,
   "metadata": {},
   "outputs": [],
   "source": [
    "#evaluating some models\n",
    "#we will be using a metric of accuracy to evaluate models\n",
    "#accuracy is the ratio of correctly predicting instances/total number of instances * 100\n",
    "#loading libraries for evaluation metrics\n",
    "from sklearn.metrics import classification_report\n",
    "from sklearn.metrics import accuracy_score\n",
    "from sklearn.metrics import confusion_matrix"
   ]
  },
  {
   "cell_type": "code",
   "execution_count": 61,
   "metadata": {},
   "outputs": [],
   "source": [
    "#we will try to build a number of models for the classification task\n",
    "#we will try to use a few linear models such as logistic regression and linear discriminant analysis\n",
    "#we will also try a few non linear models like kNN CART SVM and naive bayes\n",
    "#importing libraries for models\n",
    "from sklearn.linear_model import LogisticRegression\n",
    "from sklearn.tree import DecisionTreeClassifier\n",
    "from sklearn.neighbors import KNeighborsClassifier\n",
    "from sklearn.svm import SVC\n",
    "from sklearn.discriminant_analysis import LinearDiscriminantAnalysis\n",
    "from sklearn.naive_bayes import GaussianNB"
   ]
  },
  {
   "cell_type": "code",
   "execution_count": 64,
   "metadata": {},
   "outputs": [
    {
     "name": "stdout",
     "output_type": "stream",
     "text": [
      "[('LR', LogisticRegression(C=1.0, class_weight=None, dual=False, fit_intercept=True,\n",
      "                   intercept_scaling=1, l1_ratio=None, max_iter=100,\n",
      "                   multi_class='warn', n_jobs=None, penalty='l2',\n",
      "                   random_state=None, solver='warn', tol=0.0001, verbose=0,\n",
      "                   warm_start=False)), ('CART', DecisionTreeClassifier(class_weight=None, criterion='gini', max_depth=None,\n",
      "                       max_features=None, max_leaf_nodes=None,\n",
      "                       min_impurity_decrease=0.0, min_impurity_split=None,\n",
      "                       min_samples_leaf=1, min_samples_split=2,\n",
      "                       min_weight_fraction_leaf=0.0, presort=False,\n",
      "                       random_state=None, splitter='best')), ('KNN', KNeighborsClassifier(algorithm='auto', leaf_size=30, metric='minkowski',\n",
      "                     metric_params=None, n_jobs=None, n_neighbors=5, p=2,\n",
      "                     weights='uniform')), ('LDA', LinearDiscriminantAnalysis(n_components=None, priors=None, shrinkage=None,\n",
      "                           solver='svd', store_covariance=False, tol=0.0001)), ('SVM', SVC(C=1.0, cache_size=200, class_weight=None, coef0=0.0,\n",
      "    decision_function_shape='ovr', degree=3, gamma='auto_deprecated',\n",
      "    kernel='rbf', max_iter=-1, probability=False, random_state=None,\n",
      "    shrinking=True, tol=0.001, verbose=False)), ('NB', GaussianNB(priors=None, var_smoothing=1e-09))]\n"
     ]
    }
   ],
   "source": [
    "models=[]\n",
    "models.append(('LR',LogisticRegression()))\n",
    "models.append(('CART',DecisionTreeClassifier()))\n",
    "models.append(('KNN',KNeighborsClassifier()))\n",
    "models.append(('LDA',LinearDiscriminantAnalysis()))\n",
    "models.append(('SVM',SVC()))\n",
    "models.append(('NB',GaussianNB()))\n",
    "print(models)"
   ]
  },
  {
   "cell_type": "code",
   "execution_count": 65,
   "metadata": {},
   "outputs": [
    {
     "name": "stderr",
     "output_type": "stream",
     "text": [
      "e:\\myenv\\lib\\site-packages\\sklearn\\linear_model\\logistic.py:432: FutureWarning: Default solver will be changed to 'lbfgs' in 0.22. Specify a solver to silence this warning.\n",
      "  FutureWarning)\n",
      "e:\\myenv\\lib\\site-packages\\sklearn\\linear_model\\logistic.py:469: FutureWarning: Default multi_class will be changed to 'auto' in 0.22. Specify the multi_class option to silence this warning.\n",
      "  \"this warning.\", FutureWarning)\n",
      "e:\\myenv\\lib\\site-packages\\sklearn\\linear_model\\logistic.py:432: FutureWarning: Default solver will be changed to 'lbfgs' in 0.22. Specify a solver to silence this warning.\n",
      "  FutureWarning)\n",
      "e:\\myenv\\lib\\site-packages\\sklearn\\linear_model\\logistic.py:469: FutureWarning: Default multi_class will be changed to 'auto' in 0.22. Specify the multi_class option to silence this warning.\n",
      "  \"this warning.\", FutureWarning)\n",
      "e:\\myenv\\lib\\site-packages\\sklearn\\linear_model\\logistic.py:432: FutureWarning: Default solver will be changed to 'lbfgs' in 0.22. Specify a solver to silence this warning.\n",
      "  FutureWarning)\n",
      "e:\\myenv\\lib\\site-packages\\sklearn\\linear_model\\logistic.py:469: FutureWarning: Default multi_class will be changed to 'auto' in 0.22. Specify the multi_class option to silence this warning.\n",
      "  \"this warning.\", FutureWarning)\n",
      "e:\\myenv\\lib\\site-packages\\sklearn\\linear_model\\logistic.py:432: FutureWarning: Default solver will be changed to 'lbfgs' in 0.22. Specify a solver to silence this warning.\n",
      "  FutureWarning)\n",
      "e:\\myenv\\lib\\site-packages\\sklearn\\linear_model\\logistic.py:469: FutureWarning: Default multi_class will be changed to 'auto' in 0.22. Specify the multi_class option to silence this warning.\n",
      "  \"this warning.\", FutureWarning)\n",
      "e:\\myenv\\lib\\site-packages\\sklearn\\linear_model\\logistic.py:432: FutureWarning: Default solver will be changed to 'lbfgs' in 0.22. Specify a solver to silence this warning.\n",
      "  FutureWarning)\n",
      "e:\\myenv\\lib\\site-packages\\sklearn\\linear_model\\logistic.py:469: FutureWarning: Default multi_class will be changed to 'auto' in 0.22. Specify the multi_class option to silence this warning.\n",
      "  \"this warning.\", FutureWarning)\n",
      "e:\\myenv\\lib\\site-packages\\sklearn\\linear_model\\logistic.py:432: FutureWarning: Default solver will be changed to 'lbfgs' in 0.22. Specify a solver to silence this warning.\n",
      "  FutureWarning)\n",
      "e:\\myenv\\lib\\site-packages\\sklearn\\linear_model\\logistic.py:469: FutureWarning: Default multi_class will be changed to 'auto' in 0.22. Specify the multi_class option to silence this warning.\n",
      "  \"this warning.\", FutureWarning)\n",
      "e:\\myenv\\lib\\site-packages\\sklearn\\linear_model\\logistic.py:432: FutureWarning: Default solver will be changed to 'lbfgs' in 0.22. Specify a solver to silence this warning.\n",
      "  FutureWarning)\n",
      "e:\\myenv\\lib\\site-packages\\sklearn\\linear_model\\logistic.py:469: FutureWarning: Default multi_class will be changed to 'auto' in 0.22. Specify the multi_class option to silence this warning.\n",
      "  \"this warning.\", FutureWarning)\n",
      "e:\\myenv\\lib\\site-packages\\sklearn\\linear_model\\logistic.py:432: FutureWarning: Default solver will be changed to 'lbfgs' in 0.22. Specify a solver to silence this warning.\n",
      "  FutureWarning)\n",
      "e:\\myenv\\lib\\site-packages\\sklearn\\linear_model\\logistic.py:469: FutureWarning: Default multi_class will be changed to 'auto' in 0.22. Specify the multi_class option to silence this warning.\n",
      "  \"this warning.\", FutureWarning)\n",
      "e:\\myenv\\lib\\site-packages\\sklearn\\linear_model\\logistic.py:432: FutureWarning: Default solver will be changed to 'lbfgs' in 0.22. Specify a solver to silence this warning.\n",
      "  FutureWarning)\n",
      "e:\\myenv\\lib\\site-packages\\sklearn\\linear_model\\logistic.py:469: FutureWarning: Default multi_class will be changed to 'auto' in 0.22. Specify the multi_class option to silence this warning.\n",
      "  \"this warning.\", FutureWarning)\n",
      "e:\\myenv\\lib\\site-packages\\sklearn\\linear_model\\logistic.py:432: FutureWarning: Default solver will be changed to 'lbfgs' in 0.22. Specify a solver to silence this warning.\n",
      "  FutureWarning)\n",
      "e:\\myenv\\lib\\site-packages\\sklearn\\linear_model\\logistic.py:469: FutureWarning: Default multi_class will be changed to 'auto' in 0.22. Specify the multi_class option to silence this warning.\n",
      "  \"this warning.\", FutureWarning)\n"
     ]
    },
    {
     "name": "stdout",
     "output_type": "stream",
     "text": [
      "Result of LR is 0.9666666666666666 0.04082482904638632\n",
      "Result of CART is 0.9666666666666666 0.04082482904638632\n",
      "Result of KNN is 0.9833333333333332 0.03333333333333335\n",
      "Result of LDA is 0.975 0.03818813079129868\n",
      "Result of SVM is 0.9916666666666666 0.025000000000000012\n",
      "Result of NB is 0.975 0.053359368645273735\n"
     ]
    },
    {
     "name": "stderr",
     "output_type": "stream",
     "text": [
      "e:\\myenv\\lib\\site-packages\\sklearn\\svm\\base.py:193: FutureWarning: The default value of gamma will change from 'auto' to 'scale' in version 0.22 to account better for unscaled features. Set gamma explicitly to 'auto' or 'scale' to avoid this warning.\n",
      "  \"avoid this warning.\", FutureWarning)\n",
      "e:\\myenv\\lib\\site-packages\\sklearn\\svm\\base.py:193: FutureWarning: The default value of gamma will change from 'auto' to 'scale' in version 0.22 to account better for unscaled features. Set gamma explicitly to 'auto' or 'scale' to avoid this warning.\n",
      "  \"avoid this warning.\", FutureWarning)\n",
      "e:\\myenv\\lib\\site-packages\\sklearn\\svm\\base.py:193: FutureWarning: The default value of gamma will change from 'auto' to 'scale' in version 0.22 to account better for unscaled features. Set gamma explicitly to 'auto' or 'scale' to avoid this warning.\n",
      "  \"avoid this warning.\", FutureWarning)\n",
      "e:\\myenv\\lib\\site-packages\\sklearn\\svm\\base.py:193: FutureWarning: The default value of gamma will change from 'auto' to 'scale' in version 0.22 to account better for unscaled features. Set gamma explicitly to 'auto' or 'scale' to avoid this warning.\n",
      "  \"avoid this warning.\", FutureWarning)\n",
      "e:\\myenv\\lib\\site-packages\\sklearn\\svm\\base.py:193: FutureWarning: The default value of gamma will change from 'auto' to 'scale' in version 0.22 to account better for unscaled features. Set gamma explicitly to 'auto' or 'scale' to avoid this warning.\n",
      "  \"avoid this warning.\", FutureWarning)\n",
      "e:\\myenv\\lib\\site-packages\\sklearn\\svm\\base.py:193: FutureWarning: The default value of gamma will change from 'auto' to 'scale' in version 0.22 to account better for unscaled features. Set gamma explicitly to 'auto' or 'scale' to avoid this warning.\n",
      "  \"avoid this warning.\", FutureWarning)\n",
      "e:\\myenv\\lib\\site-packages\\sklearn\\svm\\base.py:193: FutureWarning: The default value of gamma will change from 'auto' to 'scale' in version 0.22 to account better for unscaled features. Set gamma explicitly to 'auto' or 'scale' to avoid this warning.\n",
      "  \"avoid this warning.\", FutureWarning)\n",
      "e:\\myenv\\lib\\site-packages\\sklearn\\svm\\base.py:193: FutureWarning: The default value of gamma will change from 'auto' to 'scale' in version 0.22 to account better for unscaled features. Set gamma explicitly to 'auto' or 'scale' to avoid this warning.\n",
      "  \"avoid this warning.\", FutureWarning)\n",
      "e:\\myenv\\lib\\site-packages\\sklearn\\svm\\base.py:193: FutureWarning: The default value of gamma will change from 'auto' to 'scale' in version 0.22 to account better for unscaled features. Set gamma explicitly to 'auto' or 'scale' to avoid this warning.\n",
      "  \"avoid this warning.\", FutureWarning)\n",
      "e:\\myenv\\lib\\site-packages\\sklearn\\svm\\base.py:193: FutureWarning: The default value of gamma will change from 'auto' to 'scale' in version 0.22 to account better for unscaled features. Set gamma explicitly to 'auto' or 'scale' to avoid this warning.\n",
      "  \"avoid this warning.\", FutureWarning)\n"
     ]
    }
   ],
   "source": [
    "result=[]\n",
    "names=[]\n",
    "\n",
    "for name , model in models:\n",
    "    kfold=KFold(n_splits=10,random_state=7)\n",
    "    cv_result=cross_val_score(model,X_train,Y_train,cv=kfold,scoring='accuracy')\n",
    "    names.append(name)\n",
    "    result.append(cv_result)\n",
    "    print(f'Result of {name} is {cv_result.mean()} {cv_result.std()}')\n",
    "    "
   ]
  },
  {
   "cell_type": "code",
   "execution_count": 70,
   "metadata": {},
   "outputs": [
    {
     "data": {
      "image/png": "[encoded data removed]",
      "text/plain": [
       "<Figure size 432x288 with 1 Axes>"
      ]
     },
     "metadata": {
      "needs_background": "light"
     },
     "output_type": "display_data"
    }
   ],
   "source": [
    "fig = plt.figure()\n",
    "fig.suptitle('Algorithm Comparison')\n",
    "ax = fig.add_subplot(111)\n",
    "plt.boxplot(result)\n",
    "ax.set_xticklabels(names)\n",
    "plt.show()"
   ]
  },
  {
   "cell_type": "code",
   "execution_count": 71,
   "metadata": {},
   "outputs": [
    {
     "name": "stderr",
     "output_type": "stream",
     "text": [
      "e:\\myenv\\lib\\site-packages\\sklearn\\svm\\base.py:193: FutureWarning: The default value of gamma will change from 'auto' to 'scale' in version 0.22 to account better for unscaled features. Set gamma explicitly to 'auto' or 'scale' to avoid this warning.\n",
      "  \"avoid this warning.\", FutureWarning)\n"
     ]
    }
   ],
   "source": [
    "#making predictions\n",
    "#we can see that the two best performing algorithms are svm and knn\n",
    "#so now we can use the test set to find the generalization error\n",
    "\n",
    "from sklearn.svm import SVC\n",
    "from sklearn.neighbors import KNeighborsClassifier\n",
    "\n",
    "knn=KNeighborsClassifier()\n",
    "svm=SVC()\n",
    "\n",
    "knn.fit(X_train,Y_train)\n",
    "svm.fit(X_train,Y_train)\n",
    "\n",
    "predKnn=knn.predict(X_test)\n",
    "predSvm=svm.predict(X_test)"
   ]
  },
  {
   "cell_type": "code",
   "execution_count": 73,
   "metadata": {},
   "outputs": [
    {
     "name": "stdout",
     "output_type": "stream",
     "text": [
      "Accuracy Score 0.9\n",
      "Confusion Matrix [[ 7  0  0]\n",
      " [ 0 11  1]\n",
      " [ 0  2  9]]\n",
      "Classification Report                  precision    recall  f1-score   support\n",
      "\n",
      "    Iris-setosa       1.00      1.00      1.00         7\n",
      "Iris-versicolor       0.85      0.92      0.88        12\n",
      " Iris-virginica       0.90      0.82      0.86        11\n",
      "\n",
      "       accuracy                           0.90        30\n",
      "      macro avg       0.92      0.91      0.91        30\n",
      "   weighted avg       0.90      0.90      0.90        30\n",
      "\n"
     ]
    }
   ],
   "source": [
    "#checking evaluation metrics for knn\n",
    "print(f'Accuracy Score {accuracy_score(Y_test,predKnn)}')\n",
    "print(f'Confusion Matrix {confusion_matrix(Y_test,predKnn)}')\n",
    "print(f'Classification Report {classification_report(Y_test,predKnn)}')"
   ]
  },
  {
   "cell_type": "code",
   "execution_count": 74,
   "metadata": {},
   "outputs": [
    {
     "name": "stdout",
     "output_type": "stream",
     "text": [
      "Accuracy Score 0.9333333333333333\n",
      "Confusion Matrix [[ 7  0  0]\n",
      " [ 0 10  2]\n",
      " [ 0  0 11]]\n",
      "Classification Report                  precision    recall  f1-score   support\n",
      "\n",
      "    Iris-setosa       1.00      1.00      1.00         7\n",
      "Iris-versicolor       1.00      0.83      0.91        12\n",
      " Iris-virginica       0.85      1.00      0.92        11\n",
      "\n",
      "       accuracy                           0.93        30\n",
      "      macro avg       0.95      0.94      0.94        30\n",
      "   weighted avg       0.94      0.93      0.93        30\n",
      "\n"
     ]
    }
   ],
   "source": [
    "#Checking evaluation metrics for svm\n",
    "print(f'Accuracy Score {accuracy_score(Y_test,predSvm)}')\n",
    "print(f'Confusion Matrix {confusion_matrix(Y_test,predSvm)}')\n",
    "print(f'Classification Report {classification_report(Y_test,predSvm)}')"
   ]
  },
  {
   "cell_type": "code",
   "execution_count": null,
   "metadata": {},
   "outputs": [],
   "source": []
  },
  {
   "cell_type": "code",
   "execution_count": null,
   "metadata": {},
   "outputs": [],
   "source": []
  },
  {
   "cell_type": "code",
   "execution_count": null,
   "metadata": {},
   "outputs": [],
   "source": []
  },
  {
   "cell_type": "code",
   "execution_count": null,
   "metadata": {},
   "outputs": [],
   "source": []
  },
  {
   "cell_type": "code",
   "execution_count": null,
   "metadata": {},
   "outputs": [],
   "source": []
  },
  {
   "cell_type": "code",
   "execution_count": null,
   "metadata": {},
   "outputs": [],
   "source": []
  },
  {
   "cell_type": "code",
   "execution_count": null,
   "metadata": {},
   "outputs": [],
   "source": []
  },
  {
   "cell_type": "code",
   "execution_count": null,
   "metadata": {},
   "outputs": [],
   "source": []
  },
  {
   "cell_type": "code",
   "execution_count": null,
   "metadata": {},
   "outputs": [],
   "source": []
  },
  {
   "cell_type": "code",
   "execution_count": null,
   "metadata": {},
   "outputs": [],
   "source": []
  }
 ],
 "metadata": {
  "kernelspec": {
   "display_name": "Python 3",
   "language": "python",
   "name": "python3"
  },
  "language_info": {
   "codemirror_mode": {
    "name": "ipython",
    "version": 3
   },
   "file_extension": ".py",
   "mimetype": "text/x-python",
   "name": "python",
   "nbconvert_exporter": "python",
   "pygments_lexer": "ipython3",
   "version": "3.7.2"
  }
 },
 "nbformat": 4,
 "nbformat_minor": 2
}
