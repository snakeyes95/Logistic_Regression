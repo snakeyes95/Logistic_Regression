{
 "cells": [
  {
   "cell_type": "markdown",
   "metadata": {},
   "source": [
    "#  Preforming Logistic Regression on Credit Data"
   ]
  },
  {
   "cell_type": "markdown",
   "metadata": {},
   "source": [
    "### Step 1: Loading required librarys "
   ]
  },
  {
   "cell_type": "code",
   "execution_count": 1,
   "metadata": {},
   "outputs": [],
   "source": [
    "import numpy as np\n",
    "import pandas as pd\n",
    "import matplotlib.pyplot as plt\n",
    "import seaborn as sc\n",
    "from sklearn.model_selection import train_test_split\n",
    "from sklearn.linear_model import LogisticRegression"
   ]
  },
  {
   "cell_type": "markdown",
   "metadata": {},
   "source": [
    "### Step 2 : Loading Data"
   ]
  },
  {
   "cell_type": "code",
   "execution_count": 2,
   "metadata": {},
   "outputs": [],
   "source": [
    "df=pd.read_csv(\"./Credit.csv\")"
   ]
  },
  {
   "cell_type": "markdown",
   "metadata": {},
   "source": [
    "### Step 3 : Getting breif overview of the data"
   ]
  },
  {
   "cell_type": "code",
   "execution_count": 3,
   "metadata": {},
   "outputs": [
    {
     "data": {
      "text/html": [
       "<div>\n",
       "<style scoped>\n",
       "    .dataframe tbody tr th:only-of-type {\n",
       "        vertical-align: middle;\n",
       "    }\n",
       "\n",
       "    .dataframe tbody tr th {\n",
       "        vertical-align: top;\n",
       "    }\n",
       "\n",
       "    .dataframe thead th {\n",
       "        text-align: right;\n",
       "    }\n",
       "</style>\n",
       "<table border=\"1\" class=\"dataframe\">\n",
       "  <thead>\n",
       "    <tr style=\"text-align: right;\">\n",
       "      <th></th>\n",
       "      <th>Creditability</th>\n",
       "      <th>Account_Balance</th>\n",
       "      <th>Credit_Month</th>\n",
       "      <th>Credit_History</th>\n",
       "      <th>Purpose</th>\n",
       "      <th>Credit_Amount</th>\n",
       "      <th>Value_Savings</th>\n",
       "      <th>Emp_Len</th>\n",
       "      <th>Instalmen_percent</th>\n",
       "      <th>Sex</th>\n",
       "      <th>...</th>\n",
       "      <th>Current_add</th>\n",
       "      <th>asset</th>\n",
       "      <th>age</th>\n",
       "      <th>Concurrent_Credits</th>\n",
       "      <th>Type_of_apartment</th>\n",
       "      <th>no_credits</th>\n",
       "      <th>Occupation</th>\n",
       "      <th>dependents</th>\n",
       "      <th>Telephone</th>\n",
       "      <th>Foreign_Worker</th>\n",
       "    </tr>\n",
       "  </thead>\n",
       "  <tbody>\n",
       "    <tr>\n",
       "      <td>0</td>\n",
       "      <td>1</td>\n",
       "      <td>1</td>\n",
       "      <td>18</td>\n",
       "      <td>4</td>\n",
       "      <td>2</td>\n",
       "      <td>1049</td>\n",
       "      <td>1</td>\n",
       "      <td>2</td>\n",
       "      <td>4</td>\n",
       "      <td>2</td>\n",
       "      <td>...</td>\n",
       "      <td>4</td>\n",
       "      <td>2</td>\n",
       "      <td>21</td>\n",
       "      <td>3</td>\n",
       "      <td>1</td>\n",
       "      <td>1</td>\n",
       "      <td>3</td>\n",
       "      <td>1</td>\n",
       "      <td>1</td>\n",
       "      <td>1</td>\n",
       "    </tr>\n",
       "    <tr>\n",
       "      <td>1</td>\n",
       "      <td>1</td>\n",
       "      <td>1</td>\n",
       "      <td>9</td>\n",
       "      <td>4</td>\n",
       "      <td>0</td>\n",
       "      <td>2799</td>\n",
       "      <td>1</td>\n",
       "      <td>3</td>\n",
       "      <td>2</td>\n",
       "      <td>3</td>\n",
       "      <td>...</td>\n",
       "      <td>2</td>\n",
       "      <td>1</td>\n",
       "      <td>36</td>\n",
       "      <td>3</td>\n",
       "      <td>1</td>\n",
       "      <td>2</td>\n",
       "      <td>3</td>\n",
       "      <td>2</td>\n",
       "      <td>1</td>\n",
       "      <td>1</td>\n",
       "    </tr>\n",
       "    <tr>\n",
       "      <td>2</td>\n",
       "      <td>1</td>\n",
       "      <td>2</td>\n",
       "      <td>12</td>\n",
       "      <td>2</td>\n",
       "      <td>9</td>\n",
       "      <td>841</td>\n",
       "      <td>2</td>\n",
       "      <td>4</td>\n",
       "      <td>2</td>\n",
       "      <td>2</td>\n",
       "      <td>...</td>\n",
       "      <td>4</td>\n",
       "      <td>1</td>\n",
       "      <td>23</td>\n",
       "      <td>3</td>\n",
       "      <td>1</td>\n",
       "      <td>1</td>\n",
       "      <td>2</td>\n",
       "      <td>1</td>\n",
       "      <td>1</td>\n",
       "      <td>1</td>\n",
       "    </tr>\n",
       "    <tr>\n",
       "      <td>3</td>\n",
       "      <td>1</td>\n",
       "      <td>1</td>\n",
       "      <td>12</td>\n",
       "      <td>4</td>\n",
       "      <td>0</td>\n",
       "      <td>2122</td>\n",
       "      <td>1</td>\n",
       "      <td>3</td>\n",
       "      <td>3</td>\n",
       "      <td>3</td>\n",
       "      <td>...</td>\n",
       "      <td>2</td>\n",
       "      <td>1</td>\n",
       "      <td>39</td>\n",
       "      <td>3</td>\n",
       "      <td>1</td>\n",
       "      <td>2</td>\n",
       "      <td>2</td>\n",
       "      <td>2</td>\n",
       "      <td>1</td>\n",
       "      <td>2</td>\n",
       "    </tr>\n",
       "    <tr>\n",
       "      <td>4</td>\n",
       "      <td>1</td>\n",
       "      <td>1</td>\n",
       "      <td>12</td>\n",
       "      <td>4</td>\n",
       "      <td>0</td>\n",
       "      <td>2171</td>\n",
       "      <td>1</td>\n",
       "      <td>3</td>\n",
       "      <td>4</td>\n",
       "      <td>3</td>\n",
       "      <td>...</td>\n",
       "      <td>4</td>\n",
       "      <td>2</td>\n",
       "      <td>38</td>\n",
       "      <td>1</td>\n",
       "      <td>2</td>\n",
       "      <td>2</td>\n",
       "      <td>2</td>\n",
       "      <td>1</td>\n",
       "      <td>1</td>\n",
       "      <td>2</td>\n",
       "    </tr>\n",
       "  </tbody>\n",
       "</table>\n",
       "<p>5 rows × 21 columns</p>\n",
       "</div>"
      ],
      "text/plain": [
       "   Creditability  Account_Balance  Credit_Month  Credit_History  Purpose  \\\n",
       "0              1                1            18               4        2   \n",
       "1              1                1             9               4        0   \n",
       "2              1                2            12               2        9   \n",
       "3              1                1            12               4        0   \n",
       "4              1                1            12               4        0   \n",
       "\n",
       "   Credit_Amount  Value_Savings  Emp_Len  Instalmen_percent  Sex  ...  \\\n",
       "0           1049              1        2                  4    2  ...   \n",
       "1           2799              1        3                  2    3  ...   \n",
       "2            841              2        4                  2    2  ...   \n",
       "3           2122              1        3                  3    3  ...   \n",
       "4           2171              1        3                  4    3  ...   \n",
       "\n",
       "   Current_add  asset  age  Concurrent_Credits  Type_of_apartment  no_credits  \\\n",
       "0            4      2   21                   3                  1           1   \n",
       "1            2      1   36                   3                  1           2   \n",
       "2            4      1   23                   3                  1           1   \n",
       "3            2      1   39                   3                  1           2   \n",
       "4            4      2   38                   1                  2           2   \n",
       "\n",
       "   Occupation  dependents  Telephone  Foreign_Worker  \n",
       "0           3           1          1               1  \n",
       "1           3           2          1               1  \n",
       "2           2           1          1               1  \n",
       "3           2           2          1               2  \n",
       "4           2           1          1               2  \n",
       "\n",
       "[5 rows x 21 columns]"
      ]
     },
     "execution_count": 3,
     "metadata": {},
     "output_type": "execute_result"
    }
   ],
   "source": [
    "df.head()#we have a proper index in place aldready "
   ]
  },
  {
   "cell_type": "code",
   "execution_count": 4,
   "metadata": {},
   "outputs": [
    {
     "name": "stdout",
     "output_type": "stream",
     "text": [
      "<class 'pandas.core.frame.DataFrame'>\n",
      "RangeIndex: 1000 entries, 0 to 999\n",
      "Data columns (total 21 columns):\n",
      "Creditability         1000 non-null int64\n",
      "Account_Balance       1000 non-null int64\n",
      "Credit_Month          1000 non-null int64\n",
      "Credit_History        1000 non-null int64\n",
      "Purpose               1000 non-null int64\n",
      "Credit_Amount         1000 non-null int64\n",
      "Value_Savings         1000 non-null int64\n",
      "Emp_Len               1000 non-null int64\n",
      "Instalmen_percent     1000 non-null int64\n",
      "Sex                   1000 non-null int64\n",
      "Guarantors            1000 non-null int64\n",
      "Current_add           1000 non-null int64\n",
      "asset                 1000 non-null int64\n",
      "age                   1000 non-null int64\n",
      "Concurrent_Credits    1000 non-null int64\n",
      "Type_of_apartment     1000 non-null int64\n",
      "no_credits            1000 non-null int64\n",
      "Occupation            1000 non-null int64\n",
      "dependents            1000 non-null int64\n",
      "Telephone             1000 non-null int64\n",
      "Foreign_Worker        1000 non-null int64\n",
      "dtypes: int64(21)\n",
      "memory usage: 164.2 KB\n"
     ]
    }
   ],
   "source": [
    "df.info()#from this we understand that our dataset has no missing values \n",
    "#we have a 1000 rows and 21 columns ( variables ) in total."
   ]
  },
  {
   "cell_type": "code",
   "execution_count": 5,
   "metadata": {},
   "outputs": [
    {
     "data": {
      "text/html": [
       "<div>\n",
       "<style scoped>\n",
       "    .dataframe tbody tr th:only-of-type {\n",
       "        vertical-align: middle;\n",
       "    }\n",
       "\n",
       "    .dataframe tbody tr th {\n",
       "        vertical-align: top;\n",
       "    }\n",
       "\n",
       "    .dataframe thead th {\n",
       "        text-align: right;\n",
       "    }\n",
       "</style>\n",
       "<table border=\"1\" class=\"dataframe\">\n",
       "  <thead>\n",
       "    <tr style=\"text-align: right;\">\n",
       "      <th></th>\n",
       "      <th>Creditability</th>\n",
       "      <th>Account_Balance</th>\n",
       "      <th>Credit_Month</th>\n",
       "      <th>Credit_History</th>\n",
       "      <th>Purpose</th>\n",
       "      <th>Credit_Amount</th>\n",
       "      <th>Value_Savings</th>\n",
       "      <th>Emp_Len</th>\n",
       "      <th>Instalmen_percent</th>\n",
       "      <th>Sex</th>\n",
       "      <th>...</th>\n",
       "      <th>Current_add</th>\n",
       "      <th>asset</th>\n",
       "      <th>age</th>\n",
       "      <th>Concurrent_Credits</th>\n",
       "      <th>Type_of_apartment</th>\n",
       "      <th>no_credits</th>\n",
       "      <th>Occupation</th>\n",
       "      <th>dependents</th>\n",
       "      <th>Telephone</th>\n",
       "      <th>Foreign_Worker</th>\n",
       "    </tr>\n",
       "  </thead>\n",
       "  <tbody>\n",
       "    <tr>\n",
       "      <td>count</td>\n",
       "      <td>1000.000000</td>\n",
       "      <td>1000.000000</td>\n",
       "      <td>1000.000000</td>\n",
       "      <td>1000.00000</td>\n",
       "      <td>1000.000000</td>\n",
       "      <td>1000.00000</td>\n",
       "      <td>1000.000000</td>\n",
       "      <td>1000.000000</td>\n",
       "      <td>1000.000000</td>\n",
       "      <td>1000.00000</td>\n",
       "      <td>...</td>\n",
       "      <td>1000.000000</td>\n",
       "      <td>1000.000000</td>\n",
       "      <td>1000.00000</td>\n",
       "      <td>1000.000000</td>\n",
       "      <td>1000.000000</td>\n",
       "      <td>1000.000000</td>\n",
       "      <td>1000.000000</td>\n",
       "      <td>1000.000000</td>\n",
       "      <td>1000.000000</td>\n",
       "      <td>1000.000000</td>\n",
       "    </tr>\n",
       "    <tr>\n",
       "      <td>mean</td>\n",
       "      <td>0.700000</td>\n",
       "      <td>2.577000</td>\n",
       "      <td>20.903000</td>\n",
       "      <td>2.54500</td>\n",
       "      <td>2.828000</td>\n",
       "      <td>3271.24800</td>\n",
       "      <td>2.105000</td>\n",
       "      <td>3.384000</td>\n",
       "      <td>2.973000</td>\n",
       "      <td>2.68200</td>\n",
       "      <td>...</td>\n",
       "      <td>2.845000</td>\n",
       "      <td>2.358000</td>\n",
       "      <td>35.54200</td>\n",
       "      <td>2.675000</td>\n",
       "      <td>1.928000</td>\n",
       "      <td>1.407000</td>\n",
       "      <td>2.904000</td>\n",
       "      <td>1.155000</td>\n",
       "      <td>1.404000</td>\n",
       "      <td>1.037000</td>\n",
       "    </tr>\n",
       "    <tr>\n",
       "      <td>std</td>\n",
       "      <td>0.458487</td>\n",
       "      <td>1.257638</td>\n",
       "      <td>12.058814</td>\n",
       "      <td>1.08312</td>\n",
       "      <td>2.744439</td>\n",
       "      <td>2822.75176</td>\n",
       "      <td>1.580023</td>\n",
       "      <td>1.208306</td>\n",
       "      <td>1.118715</td>\n",
       "      <td>0.70808</td>\n",
       "      <td>...</td>\n",
       "      <td>1.103718</td>\n",
       "      <td>1.050209</td>\n",
       "      <td>11.35267</td>\n",
       "      <td>0.705601</td>\n",
       "      <td>0.530186</td>\n",
       "      <td>0.577654</td>\n",
       "      <td>0.653614</td>\n",
       "      <td>0.362086</td>\n",
       "      <td>0.490943</td>\n",
       "      <td>0.188856</td>\n",
       "    </tr>\n",
       "    <tr>\n",
       "      <td>min</td>\n",
       "      <td>0.000000</td>\n",
       "      <td>1.000000</td>\n",
       "      <td>4.000000</td>\n",
       "      <td>0.00000</td>\n",
       "      <td>0.000000</td>\n",
       "      <td>250.00000</td>\n",
       "      <td>1.000000</td>\n",
       "      <td>1.000000</td>\n",
       "      <td>1.000000</td>\n",
       "      <td>1.00000</td>\n",
       "      <td>...</td>\n",
       "      <td>1.000000</td>\n",
       "      <td>1.000000</td>\n",
       "      <td>19.00000</td>\n",
       "      <td>1.000000</td>\n",
       "      <td>1.000000</td>\n",
       "      <td>1.000000</td>\n",
       "      <td>1.000000</td>\n",
       "      <td>1.000000</td>\n",
       "      <td>1.000000</td>\n",
       "      <td>1.000000</td>\n",
       "    </tr>\n",
       "    <tr>\n",
       "      <td>25%</td>\n",
       "      <td>0.000000</td>\n",
       "      <td>1.000000</td>\n",
       "      <td>12.000000</td>\n",
       "      <td>2.00000</td>\n",
       "      <td>1.000000</td>\n",
       "      <td>1365.50000</td>\n",
       "      <td>1.000000</td>\n",
       "      <td>3.000000</td>\n",
       "      <td>2.000000</td>\n",
       "      <td>2.00000</td>\n",
       "      <td>...</td>\n",
       "      <td>2.000000</td>\n",
       "      <td>1.000000</td>\n",
       "      <td>27.00000</td>\n",
       "      <td>3.000000</td>\n",
       "      <td>2.000000</td>\n",
       "      <td>1.000000</td>\n",
       "      <td>3.000000</td>\n",
       "      <td>1.000000</td>\n",
       "      <td>1.000000</td>\n",
       "      <td>1.000000</td>\n",
       "    </tr>\n",
       "    <tr>\n",
       "      <td>50%</td>\n",
       "      <td>1.000000</td>\n",
       "      <td>2.000000</td>\n",
       "      <td>18.000000</td>\n",
       "      <td>2.00000</td>\n",
       "      <td>2.000000</td>\n",
       "      <td>2319.50000</td>\n",
       "      <td>1.000000</td>\n",
       "      <td>3.000000</td>\n",
       "      <td>3.000000</td>\n",
       "      <td>3.00000</td>\n",
       "      <td>...</td>\n",
       "      <td>3.000000</td>\n",
       "      <td>2.000000</td>\n",
       "      <td>33.00000</td>\n",
       "      <td>3.000000</td>\n",
       "      <td>2.000000</td>\n",
       "      <td>1.000000</td>\n",
       "      <td>3.000000</td>\n",
       "      <td>1.000000</td>\n",
       "      <td>1.000000</td>\n",
       "      <td>1.000000</td>\n",
       "    </tr>\n",
       "    <tr>\n",
       "      <td>75%</td>\n",
       "      <td>1.000000</td>\n",
       "      <td>4.000000</td>\n",
       "      <td>24.000000</td>\n",
       "      <td>4.00000</td>\n",
       "      <td>3.000000</td>\n",
       "      <td>3972.25000</td>\n",
       "      <td>3.000000</td>\n",
       "      <td>5.000000</td>\n",
       "      <td>4.000000</td>\n",
       "      <td>3.00000</td>\n",
       "      <td>...</td>\n",
       "      <td>4.000000</td>\n",
       "      <td>3.000000</td>\n",
       "      <td>42.00000</td>\n",
       "      <td>3.000000</td>\n",
       "      <td>2.000000</td>\n",
       "      <td>2.000000</td>\n",
       "      <td>3.000000</td>\n",
       "      <td>1.000000</td>\n",
       "      <td>2.000000</td>\n",
       "      <td>1.000000</td>\n",
       "    </tr>\n",
       "    <tr>\n",
       "      <td>max</td>\n",
       "      <td>1.000000</td>\n",
       "      <td>4.000000</td>\n",
       "      <td>72.000000</td>\n",
       "      <td>4.00000</td>\n",
       "      <td>10.000000</td>\n",
       "      <td>18424.00000</td>\n",
       "      <td>5.000000</td>\n",
       "      <td>5.000000</td>\n",
       "      <td>4.000000</td>\n",
       "      <td>4.00000</td>\n",
       "      <td>...</td>\n",
       "      <td>4.000000</td>\n",
       "      <td>4.000000</td>\n",
       "      <td>75.00000</td>\n",
       "      <td>3.000000</td>\n",
       "      <td>3.000000</td>\n",
       "      <td>4.000000</td>\n",
       "      <td>4.000000</td>\n",
       "      <td>2.000000</td>\n",
       "      <td>2.000000</td>\n",
       "      <td>2.000000</td>\n",
       "    </tr>\n",
       "  </tbody>\n",
       "</table>\n",
       "<p>8 rows × 21 columns</p>\n",
       "</div>"
      ],
      "text/plain": [
       "       Creditability  Account_Balance  Credit_Month  Credit_History  \\\n",
       "count    1000.000000      1000.000000   1000.000000      1000.00000   \n",
       "mean        0.700000         2.577000     20.903000         2.54500   \n",
       "std         0.458487         1.257638     12.058814         1.08312   \n",
       "min         0.000000         1.000000      4.000000         0.00000   \n",
       "25%         0.000000         1.000000     12.000000         2.00000   \n",
       "50%         1.000000         2.000000     18.000000         2.00000   \n",
       "75%         1.000000         4.000000     24.000000         4.00000   \n",
       "max         1.000000         4.000000     72.000000         4.00000   \n",
       "\n",
       "           Purpose  Credit_Amount  Value_Savings      Emp_Len  \\\n",
       "count  1000.000000     1000.00000    1000.000000  1000.000000   \n",
       "mean      2.828000     3271.24800       2.105000     3.384000   \n",
       "std       2.744439     2822.75176       1.580023     1.208306   \n",
       "min       0.000000      250.00000       1.000000     1.000000   \n",
       "25%       1.000000     1365.50000       1.000000     3.000000   \n",
       "50%       2.000000     2319.50000       1.000000     3.000000   \n",
       "75%       3.000000     3972.25000       3.000000     5.000000   \n",
       "max      10.000000    18424.00000       5.000000     5.000000   \n",
       "\n",
       "       Instalmen_percent         Sex  ...  Current_add        asset  \\\n",
       "count        1000.000000  1000.00000  ...  1000.000000  1000.000000   \n",
       "mean            2.973000     2.68200  ...     2.845000     2.358000   \n",
       "std             1.118715     0.70808  ...     1.103718     1.050209   \n",
       "min             1.000000     1.00000  ...     1.000000     1.000000   \n",
       "25%             2.000000     2.00000  ...     2.000000     1.000000   \n",
       "50%             3.000000     3.00000  ...     3.000000     2.000000   \n",
       "75%             4.000000     3.00000  ...     4.000000     3.000000   \n",
       "max             4.000000     4.00000  ...     4.000000     4.000000   \n",
       "\n",
       "              age  Concurrent_Credits  Type_of_apartment   no_credits  \\\n",
       "count  1000.00000         1000.000000        1000.000000  1000.000000   \n",
       "mean     35.54200            2.675000           1.928000     1.407000   \n",
       "std      11.35267            0.705601           0.530186     0.577654   \n",
       "min      19.00000            1.000000           1.000000     1.000000   \n",
       "25%      27.00000            3.000000           2.000000     1.000000   \n",
       "50%      33.00000            3.000000           2.000000     1.000000   \n",
       "75%      42.00000            3.000000           2.000000     2.000000   \n",
       "max      75.00000            3.000000           3.000000     4.000000   \n",
       "\n",
       "        Occupation   dependents    Telephone  Foreign_Worker  \n",
       "count  1000.000000  1000.000000  1000.000000     1000.000000  \n",
       "mean      2.904000     1.155000     1.404000        1.037000  \n",
       "std       0.653614     0.362086     0.490943        0.188856  \n",
       "min       1.000000     1.000000     1.000000        1.000000  \n",
       "25%       3.000000     1.000000     1.000000        1.000000  \n",
       "50%       3.000000     1.000000     1.000000        1.000000  \n",
       "75%       3.000000     1.000000     2.000000        1.000000  \n",
       "max       4.000000     2.000000     2.000000        2.000000  \n",
       "\n",
       "[8 rows x 21 columns]"
      ]
     },
     "execution_count": 5,
     "metadata": {},
     "output_type": "execute_result"
    }
   ],
   "source": [
    "df.describe()#we have a lot of categorical variables"
   ]
  },
  {
   "cell_type": "code",
   "execution_count": 6,
   "metadata": {},
   "outputs": [
    {
     "data": {
      "text/plain": [
       "Creditability         int64\n",
       "Account_Balance       int64\n",
       "Credit_Month          int64\n",
       "Credit_History        int64\n",
       "Purpose               int64\n",
       "Credit_Amount         int64\n",
       "Value_Savings         int64\n",
       "Emp_Len               int64\n",
       "Instalmen_percent     int64\n",
       "Sex                   int64\n",
       "Guarantors            int64\n",
       "Current_add           int64\n",
       "asset                 int64\n",
       "age                   int64\n",
       "Concurrent_Credits    int64\n",
       "Type_of_apartment     int64\n",
       "no_credits            int64\n",
       "Occupation            int64\n",
       "dependents            int64\n",
       "Telephone             int64\n",
       "Foreign_Worker        int64\n",
       "dtype: object"
      ]
     },
     "execution_count": 6,
     "metadata": {},
     "output_type": "execute_result"
    }
   ],
   "source": [
    "df.dtypes#we need to change the datatypes of a few variables so that they are considered as factors and not numerical values"
   ]
  },
  {
   "cell_type": "markdown",
   "metadata": {},
   "source": [
    "### Step 4 : Changing the datatypes of the variables"
   ]
  },
  {
   "cell_type": "code",
   "execution_count": 7,
   "metadata": {},
   "outputs": [],
   "source": [
    "A=df.columns\n",
    "b=A[[0,1,3,4,6,7,9,10,12,14,15,17,19,20]]"
   ]
  },
  {
   "cell_type": "code",
   "execution_count": 8,
   "metadata": {},
   "outputs": [
    {
     "data": {
      "text/plain": [
       "Creditability         category\n",
       "Account_Balance       category\n",
       "Credit_Month             int64\n",
       "Credit_History        category\n",
       "Purpose               category\n",
       "Credit_Amount            int64\n",
       "Value_Savings         category\n",
       "Emp_Len               category\n",
       "Instalmen_percent        int64\n",
       "Sex                   category\n",
       "Guarantors            category\n",
       "Current_add              int64\n",
       "asset                 category\n",
       "age                      int64\n",
       "Concurrent_Credits    category\n",
       "Type_of_apartment     category\n",
       "no_credits               int64\n",
       "Occupation            category\n",
       "dependents               int64\n",
       "Telephone             category\n",
       "Foreign_Worker        category\n",
       "dtype: object"
      ]
     },
     "execution_count": 8,
     "metadata": {},
     "output_type": "execute_result"
    }
   ],
   "source": [
    "for i in b:\n",
    "    df.loc[:,i]=df.loc[:,i].astype('category')\n",
    "df.dtypes"
   ]
  },
  {
   "cell_type": "markdown",
   "metadata": {},
   "source": [
    "### Step 5 : Understanding our data"
   ]
  },
  {
   "cell_type": "code",
   "execution_count": 9,
   "metadata": {},
   "outputs": [],
   "source": [
    "#we aldready know that our data does not contain any null values so let us try and check for any outliers \n",
    "#first in our target variable and then in the independent variables"
   ]
  },
  {
   "cell_type": "code",
   "execution_count": 10,
   "metadata": {},
   "outputs": [
    {
     "data": {
      "text/plain": [
       "<matplotlib.axes._subplots.AxesSubplot at 0x19b58240>"
      ]
     },
     "execution_count": 10,
     "metadata": {},
     "output_type": "execute_result"
    },
    {
     "data": {
      "image/png": "[encoded data removed]",
      "text/plain": [
       "<Figure size 432x288 with 1 Axes>"
      ]
     },
     "metadata": {
      "needs_background": "light"
     },
     "output_type": "display_data"
    }
   ],
   "source": [
    "#let us start with our continuous variables\n",
    "sc.distplot(df.Credit_Month)#skewed"
   ]
  },
  {
   "cell_type": "code",
   "execution_count": 11,
   "metadata": {},
   "outputs": [
    {
     "data": {
      "text/plain": [
       "<matplotlib.axes._subplots.AxesSubplot at 0x1bd04588>"
      ]
     },
     "execution_count": 11,
     "metadata": {},
     "output_type": "execute_result"
    },
    {
     "data": {
      "image/png": "[encoded data removed]",
      "text/plain": [
       "<Figure size 432x288 with 1 Axes>"
      ]
     },
     "metadata": {
      "needs_background": "light"
     },
     "output_type": "display_data"
    }
   ],
   "source": [
    "sc.distplot(df.Credit_Amount)#skewed"
   ]
  },
  {
   "cell_type": "code",
   "execution_count": 12,
   "metadata": {},
   "outputs": [
    {
     "data": {
      "text/plain": [
       "<matplotlib.axes._subplots.AxesSubplot at 0x1bd47b70>"
      ]
     },
     "execution_count": 12,
     "metadata": {},
     "output_type": "execute_result"
    },
    {
     "data": {
      "image/png": "[encoded data removed]",
      "text/plain": [
       "<Figure size 432x288 with 1 Axes>"
      ]
     },
     "metadata": {
      "needs_background": "light"
     },
     "output_type": "display_data"
    }
   ],
   "source": [
    "sc.distplot(df.Instalmen_percent)"
   ]
  },
  {
   "cell_type": "code",
   "execution_count": 13,
   "metadata": {},
   "outputs": [
    {
     "data": {
      "text/plain": [
       "<matplotlib.axes._subplots.AxesSubplot at 0x1bdfed30>"
      ]
     },
     "execution_count": 13,
     "metadata": {},
     "output_type": "execute_result"
    },
    {
     "data": {
      "image/png": "[encoded data removed]",
      "text/plain": [
       "<Figure size 432x288 with 1 Axes>"
      ]
     },
     "metadata": {
      "needs_background": "light"
     },
     "output_type": "display_data"
    }
   ],
   "source": [
    "sc.distplot(df.Current_add)"
   ]
  },
  {
   "cell_type": "code",
   "execution_count": 14,
   "metadata": {},
   "outputs": [
    {
     "data": {
      "text/plain": [
       "<matplotlib.axes._subplots.AxesSubplot at 0x1bec6eb8>"
      ]
     },
     "execution_count": 14,
     "metadata": {},
     "output_type": "execute_result"
    },
    {
     "data": {
      "image/png": "[encoded data removed]",
      "text/plain": [
       "<Figure size 432x288 with 1 Axes>"
      ]
     },
     "metadata": {
      "needs_background": "light"
     },
     "output_type": "display_data"
    }
   ],
   "source": [
    "sc.distplot(df.age)"
   ]
  },
  {
   "cell_type": "code",
   "execution_count": 15,
   "metadata": {},
   "outputs": [
    {
     "data": {
      "text/plain": [
       "<matplotlib.axes._subplots.AxesSubplot at 0x1bf54f28>"
      ]
     },
     "execution_count": 15,
     "metadata": {},
     "output_type": "execute_result"
    },
    {
     "data": {
      "image/png": "[encoded data removed]",
      "text/plain": [
       "<Figure size 432x288 with 1 Axes>"
      ]
     },
     "metadata": {
      "needs_background": "light"
     },
     "output_type": "display_data"
    }
   ],
   "source": [
    "sc.distplot(df.no_credits)"
   ]
  },
  {
   "cell_type": "code",
   "execution_count": 16,
   "metadata": {},
   "outputs": [
    {
     "data": {
      "text/plain": [
       "<matplotlib.axes._subplots.AxesSubplot at 0x1bfeaba8>"
      ]
     },
     "execution_count": 16,
     "metadata": {},
     "output_type": "execute_result"
    },
    {
     "data": {
      "image/png": "[encoded data removed]",
      "text/plain": [
       "<Figure size 432x288 with 1 Axes>"
      ]
     },
     "metadata": {
      "needs_background": "light"
     },
     "output_type": "display_data"
    }
   ],
   "source": [
    "sc.distplot(df.dependents)"
   ]
  },
  {
   "cell_type": "code",
   "execution_count": 17,
   "metadata": {},
   "outputs": [
    {
     "data": {
      "text/plain": [
       "<matplotlib.axes._subplots.AxesSubplot at 0x1c0a3668>"
      ]
     },
     "execution_count": 17,
     "metadata": {},
     "output_type": "execute_result"
    },
    {
     "data": {
      "image/png": "[encoded data removed]",
      "text/plain": [
       "<Figure size 432x288 with 1 Axes>"
      ]
     },
     "metadata": {
      "needs_background": "light"
     },
     "output_type": "display_data"
    }
   ],
   "source": [
    "#building box plots for the skewed variables\n",
    "sc.boxplot(data=df.Credit_Month)#this is telling us the duration in months"
   ]
  },
  {
   "cell_type": "code",
   "execution_count": 18,
   "metadata": {},
   "outputs": [
    {
     "data": {
      "text/plain": [
       "<matplotlib.axes._subplots.AxesSubplot at 0x1c0fd978>"
      ]
     },
     "execution_count": 18,
     "metadata": {},
     "output_type": "execute_result"
    },
    {
     "data": {
      "image/png": "[encoded data removed]",
      "text/plain": [
       "<Figure size 432x288 with 1 Axes>"
      ]
     },
     "metadata": {
      "needs_background": "light"
     },
     "output_type": "display_data"
    }
   ],
   "source": [
    "sc.boxplot(data=df.Credit_Amount)#credit amount"
   ]
  },
  {
   "cell_type": "code",
   "execution_count": 19,
   "metadata": {},
   "outputs": [
    {
     "data": {
      "text/plain": [
       "<matplotlib.axes._subplots.AxesSubplot at 0x1c165860>"
      ]
     },
     "execution_count": 19,
     "metadata": {},
     "output_type": "execute_result"
    },
    {
     "data": {
      "image/png": "[encoded data removed]",
      "text/plain": [
       "<Figure size 432x288 with 1 Axes>"
      ]
     },
     "metadata": {
      "needs_background": "light"
     },
     "output_type": "display_data"
    }
   ],
   "source": [
    "sc.boxplot(data=df.age)#age in years"
   ]
  },
  {
   "cell_type": "markdown",
   "metadata": {},
   "source": [
    "### Step 6 : Handling outliers in Continuous variables"
   ]
  },
  {
   "cell_type": "code",
   "execution_count": 20,
   "metadata": {},
   "outputs": [
    {
     "data": {
      "text/html": [
       "<div>\n",
       "<style scoped>\n",
       "    .dataframe tbody tr th:only-of-type {\n",
       "        vertical-align: middle;\n",
       "    }\n",
       "\n",
       "    .dataframe tbody tr th {\n",
       "        vertical-align: top;\n",
       "    }\n",
       "\n",
       "    .dataframe thead th {\n",
       "        text-align: right;\n",
       "    }\n",
       "</style>\n",
       "<table border=\"1\" class=\"dataframe\">\n",
       "  <thead>\n",
       "    <tr style=\"text-align: right;\">\n",
       "      <th></th>\n",
       "      <th>Credit_Month</th>\n",
       "      <th>Credit_Amount</th>\n",
       "      <th>Instalmen_percent</th>\n",
       "      <th>Current_add</th>\n",
       "      <th>age</th>\n",
       "      <th>no_credits</th>\n",
       "      <th>dependents</th>\n",
       "    </tr>\n",
       "  </thead>\n",
       "  <tbody>\n",
       "    <tr>\n",
       "      <td>Credit_Month</td>\n",
       "      <td>1.000000</td>\n",
       "      <td>0.624988</td>\n",
       "      <td>0.074749</td>\n",
       "      <td>0.034067</td>\n",
       "      <td>-0.037550</td>\n",
       "      <td>-0.011284</td>\n",
       "      <td>-0.023834</td>\n",
       "    </tr>\n",
       "    <tr>\n",
       "      <td>Credit_Amount</td>\n",
       "      <td>0.624988</td>\n",
       "      <td>1.000000</td>\n",
       "      <td>-0.271322</td>\n",
       "      <td>0.028917</td>\n",
       "      <td>0.032273</td>\n",
       "      <td>0.020785</td>\n",
       "      <td>0.017144</td>\n",
       "    </tr>\n",
       "    <tr>\n",
       "      <td>Instalmen_percent</td>\n",
       "      <td>0.074749</td>\n",
       "      <td>-0.271322</td>\n",
       "      <td>1.000000</td>\n",
       "      <td>0.049302</td>\n",
       "      <td>0.057271</td>\n",
       "      <td>0.021669</td>\n",
       "      <td>-0.071207</td>\n",
       "    </tr>\n",
       "    <tr>\n",
       "      <td>Current_add</td>\n",
       "      <td>0.034067</td>\n",
       "      <td>0.028917</td>\n",
       "      <td>0.049302</td>\n",
       "      <td>1.000000</td>\n",
       "      <td>0.265626</td>\n",
       "      <td>0.089625</td>\n",
       "      <td>0.042643</td>\n",
       "    </tr>\n",
       "    <tr>\n",
       "      <td>age</td>\n",
       "      <td>-0.037550</td>\n",
       "      <td>0.032273</td>\n",
       "      <td>0.057271</td>\n",
       "      <td>0.265626</td>\n",
       "      <td>1.000000</td>\n",
       "      <td>0.150718</td>\n",
       "      <td>0.118589</td>\n",
       "    </tr>\n",
       "    <tr>\n",
       "      <td>no_credits</td>\n",
       "      <td>-0.011284</td>\n",
       "      <td>0.020785</td>\n",
       "      <td>0.021669</td>\n",
       "      <td>0.089625</td>\n",
       "      <td>0.150718</td>\n",
       "      <td>1.000000</td>\n",
       "      <td>0.109667</td>\n",
       "    </tr>\n",
       "    <tr>\n",
       "      <td>dependents</td>\n",
       "      <td>-0.023834</td>\n",
       "      <td>0.017144</td>\n",
       "      <td>-0.071207</td>\n",
       "      <td>0.042643</td>\n",
       "      <td>0.118589</td>\n",
       "      <td>0.109667</td>\n",
       "      <td>1.000000</td>\n",
       "    </tr>\n",
       "  </tbody>\n",
       "</table>\n",
       "</div>"
      ],
      "text/plain": [
       "                   Credit_Month  Credit_Amount  Instalmen_percent  \\\n",
       "Credit_Month           1.000000       0.624988           0.074749   \n",
       "Credit_Amount          0.624988       1.000000          -0.271322   \n",
       "Instalmen_percent      0.074749      -0.271322           1.000000   \n",
       "Current_add            0.034067       0.028917           0.049302   \n",
       "age                   -0.037550       0.032273           0.057271   \n",
       "no_credits            -0.011284       0.020785           0.021669   \n",
       "dependents            -0.023834       0.017144          -0.071207   \n",
       "\n",
       "                   Current_add       age  no_credits  dependents  \n",
       "Credit_Month          0.034067 -0.037550   -0.011284   -0.023834  \n",
       "Credit_Amount         0.028917  0.032273    0.020785    0.017144  \n",
       "Instalmen_percent     0.049302  0.057271    0.021669   -0.071207  \n",
       "Current_add           1.000000  0.265626    0.089625    0.042643  \n",
       "age                   0.265626  1.000000    0.150718    0.118589  \n",
       "no_credits            0.089625  0.150718    1.000000    0.109667  \n",
       "dependents            0.042643  0.118589    0.109667    1.000000  "
      ]
     },
     "execution_count": 20,
     "metadata": {},
     "output_type": "execute_result"
    }
   ],
   "source": [
    "#before doing any outlier treatment we need to check a few things \n",
    "df.corr()#we can clearly see that credit month and credit amount have some sort of a strong correlation between them"
   ]
  },
  {
   "cell_type": "code",
   "execution_count": 21,
   "metadata": {},
   "outputs": [
    {
     "name": "stdout",
     "output_type": "stream",
     "text": [
      "42.0 18.0\n"
     ]
    }
   ],
   "source": [
    "iqr=1.5*(df.Credit_Month.quantile(0.75)-df.Credit_Month.quantile(0.25))\n",
    "max_val=df.Credit_Month.quantile(0.75)+iqr\n",
    "print(max_val,iqr)#this will give us the max value "
   ]
  },
  {
   "cell_type": "code",
   "execution_count": 22,
   "metadata": {},
   "outputs": [
    {
     "data": {
      "text/plain": [
       "(70, 21)"
      ]
     },
     "execution_count": 22,
     "metadata": {},
     "output_type": "execute_result"
    }
   ],
   "source": [
    "df[df.Credit_Month>43].shape #70 items present"
   ]
  },
  {
   "cell_type": "code",
   "execution_count": 23,
   "metadata": {},
   "outputs": [
    {
     "data": {
      "text/plain": [
       "1    700\n",
       "0    300\n",
       "Name: Creditability, dtype: int64"
      ]
     },
     "execution_count": 23,
     "metadata": {},
     "output_type": "execute_result"
    }
   ],
   "source": [
    "df.Creditability.value_counts()"
   ]
  },
  {
   "cell_type": "code",
   "execution_count": 24,
   "metadata": {},
   "outputs": [
    {
     "data": {
      "text/html": [
       "<div>\n",
       "<style scoped>\n",
       "    .dataframe tbody tr th:only-of-type {\n",
       "        vertical-align: middle;\n",
       "    }\n",
       "\n",
       "    .dataframe tbody tr th {\n",
       "        vertical-align: top;\n",
       "    }\n",
       "\n",
       "    .dataframe thead th {\n",
       "        text-align: right;\n",
       "    }\n",
       "</style>\n",
       "<table border=\"1\" class=\"dataframe\">\n",
       "  <thead>\n",
       "    <tr style=\"text-align: right;\">\n",
       "      <th></th>\n",
       "      <th>Creditability</th>\n",
       "      <th>Account_Balance</th>\n",
       "      <th>Credit_Month</th>\n",
       "      <th>Credit_History</th>\n",
       "      <th>Purpose</th>\n",
       "      <th>Credit_Amount</th>\n",
       "      <th>Value_Savings</th>\n",
       "      <th>Emp_Len</th>\n",
       "      <th>Instalmen_percent</th>\n",
       "      <th>Sex</th>\n",
       "      <th>...</th>\n",
       "      <th>Current_add</th>\n",
       "      <th>asset</th>\n",
       "      <th>age</th>\n",
       "      <th>Concurrent_Credits</th>\n",
       "      <th>Type_of_apartment</th>\n",
       "      <th>no_credits</th>\n",
       "      <th>Occupation</th>\n",
       "      <th>dependents</th>\n",
       "      <th>Telephone</th>\n",
       "      <th>Foreign_Worker</th>\n",
       "    </tr>\n",
       "  </thead>\n",
       "  <tbody>\n",
       "    <tr>\n",
       "      <td>13</td>\n",
       "      <td>1</td>\n",
       "      <td>2</td>\n",
       "      <td>48</td>\n",
       "      <td>3</td>\n",
       "      <td>10</td>\n",
       "      <td>7582</td>\n",
       "      <td>2</td>\n",
       "      <td>1</td>\n",
       "      <td>2</td>\n",
       "      <td>3</td>\n",
       "      <td>...</td>\n",
       "      <td>4</td>\n",
       "      <td>4</td>\n",
       "      <td>31</td>\n",
       "      <td>3</td>\n",
       "      <td>2</td>\n",
       "      <td>1</td>\n",
       "      <td>4</td>\n",
       "      <td>1</td>\n",
       "      <td>2</td>\n",
       "      <td>1</td>\n",
       "    </tr>\n",
       "    <tr>\n",
       "      <td>62</td>\n",
       "      <td>1</td>\n",
       "      <td>4</td>\n",
       "      <td>48</td>\n",
       "      <td>4</td>\n",
       "      <td>3</td>\n",
       "      <td>3578</td>\n",
       "      <td>5</td>\n",
       "      <td>5</td>\n",
       "      <td>4</td>\n",
       "      <td>3</td>\n",
       "      <td>...</td>\n",
       "      <td>1</td>\n",
       "      <td>1</td>\n",
       "      <td>47</td>\n",
       "      <td>3</td>\n",
       "      <td>2</td>\n",
       "      <td>1</td>\n",
       "      <td>3</td>\n",
       "      <td>1</td>\n",
       "      <td>2</td>\n",
       "      <td>1</td>\n",
       "    </tr>\n",
       "    <tr>\n",
       "      <td>152</td>\n",
       "      <td>1</td>\n",
       "      <td>4</td>\n",
       "      <td>48</td>\n",
       "      <td>4</td>\n",
       "      <td>1</td>\n",
       "      <td>8858</td>\n",
       "      <td>5</td>\n",
       "      <td>4</td>\n",
       "      <td>2</td>\n",
       "      <td>3</td>\n",
       "      <td>...</td>\n",
       "      <td>1</td>\n",
       "      <td>4</td>\n",
       "      <td>35</td>\n",
       "      <td>3</td>\n",
       "      <td>3</td>\n",
       "      <td>2</td>\n",
       "      <td>3</td>\n",
       "      <td>1</td>\n",
       "      <td>2</td>\n",
       "      <td>1</td>\n",
       "    </tr>\n",
       "    <tr>\n",
       "      <td>179</td>\n",
       "      <td>1</td>\n",
       "      <td>4</td>\n",
       "      <td>48</td>\n",
       "      <td>3</td>\n",
       "      <td>3</td>\n",
       "      <td>12749</td>\n",
       "      <td>3</td>\n",
       "      <td>4</td>\n",
       "      <td>4</td>\n",
       "      <td>3</td>\n",
       "      <td>...</td>\n",
       "      <td>1</td>\n",
       "      <td>3</td>\n",
       "      <td>37</td>\n",
       "      <td>3</td>\n",
       "      <td>2</td>\n",
       "      <td>1</td>\n",
       "      <td>4</td>\n",
       "      <td>1</td>\n",
       "      <td>2</td>\n",
       "      <td>1</td>\n",
       "    </tr>\n",
       "    <tr>\n",
       "      <td>192</td>\n",
       "      <td>1</td>\n",
       "      <td>2</td>\n",
       "      <td>48</td>\n",
       "      <td>2</td>\n",
       "      <td>0</td>\n",
       "      <td>8487</td>\n",
       "      <td>5</td>\n",
       "      <td>4</td>\n",
       "      <td>1</td>\n",
       "      <td>2</td>\n",
       "      <td>...</td>\n",
       "      <td>2</td>\n",
       "      <td>3</td>\n",
       "      <td>24</td>\n",
       "      <td>3</td>\n",
       "      <td>2</td>\n",
       "      <td>1</td>\n",
       "      <td>3</td>\n",
       "      <td>1</td>\n",
       "      <td>1</td>\n",
       "      <td>1</td>\n",
       "    </tr>\n",
       "  </tbody>\n",
       "</table>\n",
       "<p>5 rows × 21 columns</p>\n",
       "</div>"
      ],
      "text/plain": [
       "    Creditability Account_Balance  Credit_Month Credit_History Purpose  \\\n",
       "13              1               2            48              3      10   \n",
       "62              1               4            48              4       3   \n",
       "152             1               4            48              4       1   \n",
       "179             1               4            48              3       3   \n",
       "192             1               2            48              2       0   \n",
       "\n",
       "     Credit_Amount Value_Savings Emp_Len  Instalmen_percent Sex  ...  \\\n",
       "13            7582             2       1                  2   3  ...   \n",
       "62            3578             5       5                  4   3  ...   \n",
       "152           8858             5       4                  2   3  ...   \n",
       "179          12749             3       4                  4   3  ...   \n",
       "192           8487             5       4                  1   2  ...   \n",
       "\n",
       "    Current_add  asset age  Concurrent_Credits Type_of_apartment no_credits  \\\n",
       "13            4      4  31                   3                 2          1   \n",
       "62            1      1  47                   3                 2          1   \n",
       "152           1      4  35                   3                 3          2   \n",
       "179           1      3  37                   3                 2          1   \n",
       "192           2      3  24                   3                 2          1   \n",
       "\n",
       "     Occupation dependents  Telephone Foreign_Worker  \n",
       "13            4          1          2              1  \n",
       "62            3          1          2              1  \n",
       "152           3          1          2              1  \n",
       "179           4          1          2              1  \n",
       "192           3          1          1              1  \n",
       "\n",
       "[5 rows x 21 columns]"
      ]
     },
     "execution_count": 24,
     "metadata": {},
     "output_type": "execute_result"
    }
   ],
   "source": [
    "df.loc[(df.Creditability==1)&(df.Credit_Month>43)].head()"
   ]
  },
  {
   "cell_type": "code",
   "execution_count": 25,
   "metadata": {},
   "outputs": [
    {
     "data": {
      "text/plain": [
       "(30, 21)"
      ]
     },
     "execution_count": 25,
     "metadata": {},
     "output_type": "execute_result"
    }
   ],
   "source": [
    "df.loc[(df.Creditability==1)&(df.Credit_Month>43)].shape#this means that there are 30 values with creditability 1 "
   ]
  },
  {
   "cell_type": "code",
   "execution_count": 26,
   "metadata": {},
   "outputs": [
    {
     "data": {
      "text/plain": [
       "(40, 21)"
      ]
     },
     "execution_count": 26,
     "metadata": {},
     "output_type": "execute_result"
    }
   ],
   "source": [
    "df.loc[(df.Creditability==0)&(df.Credit_Month>43)].shape#this means that there are 40 values with creditability 0 \n",
    "#if most had paid the loan we would have removed the outliers 0 is bad credit which is very large number of defaulters"
   ]
  },
  {
   "cell_type": "code",
   "execution_count": 27,
   "metadata": {},
   "outputs": [
    {
     "name": "stdout",
     "output_type": "stream",
     "text": [
      "7882.375 3910.125\n"
     ]
    }
   ],
   "source": [
    "#checking for \n",
    "iqr=1.5*(df.Credit_Amount.quantile(0.75)-df.Credit_Amount.quantile(0.25))\n",
    "max_value=df.Credit_Amount.quantile(0.75)+iqr\n",
    "print(max_value,iqr)"
   ]
  },
  {
   "cell_type": "code",
   "execution_count": 28,
   "metadata": {},
   "outputs": [
    {
     "data": {
      "text/plain": [
       "(72, 21)"
      ]
     },
     "execution_count": 28,
     "metadata": {},
     "output_type": "execute_result"
    }
   ],
   "source": [
    "df[df.Credit_Amount>7882].shape#72 outliers"
   ]
  },
  {
   "cell_type": "code",
   "execution_count": 29,
   "metadata": {},
   "outputs": [
    {
     "data": {
      "text/html": [
       "<div>\n",
       "<style scoped>\n",
       "    .dataframe tbody tr th:only-of-type {\n",
       "        vertical-align: middle;\n",
       "    }\n",
       "\n",
       "    .dataframe tbody tr th {\n",
       "        vertical-align: top;\n",
       "    }\n",
       "\n",
       "    .dataframe thead th {\n",
       "        text-align: right;\n",
       "    }\n",
       "</style>\n",
       "<table border=\"1\" class=\"dataframe\">\n",
       "  <thead>\n",
       "    <tr style=\"text-align: right;\">\n",
       "      <th></th>\n",
       "      <th>Creditability</th>\n",
       "      <th>Account_Balance</th>\n",
       "      <th>Credit_Month</th>\n",
       "      <th>Credit_History</th>\n",
       "      <th>Purpose</th>\n",
       "      <th>Credit_Amount</th>\n",
       "      <th>Value_Savings</th>\n",
       "      <th>Emp_Len</th>\n",
       "      <th>Instalmen_percent</th>\n",
       "      <th>Sex</th>\n",
       "      <th>...</th>\n",
       "      <th>Current_add</th>\n",
       "      <th>asset</th>\n",
       "      <th>age</th>\n",
       "      <th>Concurrent_Credits</th>\n",
       "      <th>Type_of_apartment</th>\n",
       "      <th>no_credits</th>\n",
       "      <th>Occupation</th>\n",
       "      <th>dependents</th>\n",
       "      <th>Telephone</th>\n",
       "      <th>Foreign_Worker</th>\n",
       "    </tr>\n",
       "  </thead>\n",
       "  <tbody>\n",
       "    <tr>\n",
       "      <td>521</td>\n",
       "      <td>0</td>\n",
       "      <td>4</td>\n",
       "      <td>36</td>\n",
       "      <td>2</td>\n",
       "      <td>2</td>\n",
       "      <td>10974</td>\n",
       "      <td>1</td>\n",
       "      <td>1</td>\n",
       "      <td>4</td>\n",
       "      <td>2</td>\n",
       "      <td>...</td>\n",
       "      <td>2</td>\n",
       "      <td>3</td>\n",
       "      <td>26</td>\n",
       "      <td>3</td>\n",
       "      <td>2</td>\n",
       "      <td>2</td>\n",
       "      <td>4</td>\n",
       "      <td>1</td>\n",
       "      <td>2</td>\n",
       "      <td>1</td>\n",
       "    </tr>\n",
       "    <tr>\n",
       "      <td>600</td>\n",
       "      <td>0</td>\n",
       "      <td>1</td>\n",
       "      <td>36</td>\n",
       "      <td>2</td>\n",
       "      <td>1</td>\n",
       "      <td>8229</td>\n",
       "      <td>1</td>\n",
       "      <td>3</td>\n",
       "      <td>2</td>\n",
       "      <td>3</td>\n",
       "      <td>...</td>\n",
       "      <td>2</td>\n",
       "      <td>2</td>\n",
       "      <td>26</td>\n",
       "      <td>3</td>\n",
       "      <td>2</td>\n",
       "      <td>1</td>\n",
       "      <td>3</td>\n",
       "      <td>2</td>\n",
       "      <td>1</td>\n",
       "      <td>1</td>\n",
       "    </tr>\n",
       "    <tr>\n",
       "      <td>700</td>\n",
       "      <td>0</td>\n",
       "      <td>1</td>\n",
       "      <td>36</td>\n",
       "      <td>2</td>\n",
       "      <td>1</td>\n",
       "      <td>8335</td>\n",
       "      <td>5</td>\n",
       "      <td>5</td>\n",
       "      <td>3</td>\n",
       "      <td>3</td>\n",
       "      <td>...</td>\n",
       "      <td>4</td>\n",
       "      <td>4</td>\n",
       "      <td>47</td>\n",
       "      <td>3</td>\n",
       "      <td>3</td>\n",
       "      <td>1</td>\n",
       "      <td>3</td>\n",
       "      <td>1</td>\n",
       "      <td>1</td>\n",
       "      <td>1</td>\n",
       "    </tr>\n",
       "    <tr>\n",
       "      <td>754</td>\n",
       "      <td>0</td>\n",
       "      <td>2</td>\n",
       "      <td>6</td>\n",
       "      <td>2</td>\n",
       "      <td>0</td>\n",
       "      <td>14555</td>\n",
       "      <td>5</td>\n",
       "      <td>1</td>\n",
       "      <td>1</td>\n",
       "      <td>3</td>\n",
       "      <td>...</td>\n",
       "      <td>2</td>\n",
       "      <td>2</td>\n",
       "      <td>23</td>\n",
       "      <td>3</td>\n",
       "      <td>2</td>\n",
       "      <td>1</td>\n",
       "      <td>1</td>\n",
       "      <td>1</td>\n",
       "      <td>2</td>\n",
       "      <td>1</td>\n",
       "    </tr>\n",
       "    <tr>\n",
       "      <td>773</td>\n",
       "      <td>0</td>\n",
       "      <td>1</td>\n",
       "      <td>36</td>\n",
       "      <td>2</td>\n",
       "      <td>0</td>\n",
       "      <td>9271</td>\n",
       "      <td>1</td>\n",
       "      <td>4</td>\n",
       "      <td>2</td>\n",
       "      <td>3</td>\n",
       "      <td>...</td>\n",
       "      <td>1</td>\n",
       "      <td>3</td>\n",
       "      <td>24</td>\n",
       "      <td>3</td>\n",
       "      <td>2</td>\n",
       "      <td>1</td>\n",
       "      <td>3</td>\n",
       "      <td>1</td>\n",
       "      <td>2</td>\n",
       "      <td>1</td>\n",
       "    </tr>\n",
       "  </tbody>\n",
       "</table>\n",
       "<p>5 rows × 21 columns</p>\n",
       "</div>"
      ],
      "text/plain": [
       "    Creditability Account_Balance  Credit_Month Credit_History Purpose  \\\n",
       "521             0               4            36              2       2   \n",
       "600             0               1            36              2       1   \n",
       "700             0               1            36              2       1   \n",
       "754             0               2             6              2       0   \n",
       "773             0               1            36              2       0   \n",
       "\n",
       "     Credit_Amount Value_Savings Emp_Len  Instalmen_percent Sex  ...  \\\n",
       "521          10974             1       1                  4   2  ...   \n",
       "600           8229             1       3                  2   3  ...   \n",
       "700           8335             5       5                  3   3  ...   \n",
       "754          14555             5       1                  1   3  ...   \n",
       "773           9271             1       4                  2   3  ...   \n",
       "\n",
       "    Current_add  asset age  Concurrent_Credits Type_of_apartment no_credits  \\\n",
       "521           2      3  26                   3                 2          2   \n",
       "600           2      2  26                   3                 2          1   \n",
       "700           4      4  47                   3                 3          1   \n",
       "754           2      2  23                   3                 2          1   \n",
       "773           1      3  24                   3                 2          1   \n",
       "\n",
       "     Occupation dependents  Telephone Foreign_Worker  \n",
       "521           4          1          2              1  \n",
       "600           3          2          1              1  \n",
       "700           3          1          1              1  \n",
       "754           1          1          2              1  \n",
       "773           3          1          2              1  \n",
       "\n",
       "[5 rows x 21 columns]"
      ]
     },
     "execution_count": 29,
     "metadata": {},
     "output_type": "execute_result"
    }
   ],
   "source": [
    "df[(df.Creditability==0)&(df.Credit_Amount>7882)].head()"
   ]
  },
  {
   "cell_type": "code",
   "execution_count": 30,
   "metadata": {},
   "outputs": [
    {
     "data": {
      "text/plain": [
       "(39, 21)"
      ]
     },
     "execution_count": 30,
     "metadata": {},
     "output_type": "execute_result"
    }
   ],
   "source": [
    "df[(df.Creditability==0)&(df.Credit_Amount>7882)].shape#dont want to remove these outliers as well"
   ]
  },
  {
   "cell_type": "code",
   "execution_count": 31,
   "metadata": {},
   "outputs": [
    {
     "data": {
      "text/plain": [
       "(33, 21)"
      ]
     },
     "execution_count": 31,
     "metadata": {},
     "output_type": "execute_result"
    }
   ],
   "source": [
    "df[(df.Creditability==1)&(df.Credit_Amount>7882)].shape"
   ]
  },
  {
   "cell_type": "code",
   "execution_count": 32,
   "metadata": {},
   "outputs": [
    {
     "name": "stdout",
     "output_type": "stream",
     "text": [
      "64.5 22.5\n"
     ]
    }
   ],
   "source": [
    "iqr=1.5*(df.age.quantile(0.75)-df.age.quantile(0.25))\n",
    "max_val=df.age.quantile(0.75)+iqr\n",
    "print(max_val,iqr)"
   ]
  },
  {
   "cell_type": "code",
   "execution_count": 33,
   "metadata": {},
   "outputs": [
    {
     "data": {
      "text/plain": [
       "(23, 21)"
      ]
     },
     "execution_count": 33,
     "metadata": {},
     "output_type": "execute_result"
    }
   ],
   "source": [
    "df[df.age>64.5].shape#23 outliers"
   ]
  },
  {
   "cell_type": "code",
   "execution_count": 34,
   "metadata": {},
   "outputs": [
    {
     "data": {
      "text/plain": [
       "(6, 21)"
      ]
     },
     "execution_count": 34,
     "metadata": {},
     "output_type": "execute_result"
    }
   ],
   "source": [
    "df[(df.Creditability==0) & (df.age>64)].shape"
   ]
  },
  {
   "cell_type": "code",
   "execution_count": 35,
   "metadata": {},
   "outputs": [
    {
     "data": {
      "text/plain": [
       "(17, 21)"
      ]
     },
     "execution_count": 35,
     "metadata": {},
     "output_type": "execute_result"
    }
   ],
   "source": [
    "df[(df.Creditability==1) & (df.age>64)].shape"
   ]
  },
  {
   "cell_type": "code",
   "execution_count": 36,
   "metadata": {},
   "outputs": [
    {
     "data": {
      "text/html": [
       "<div>\n",
       "<style scoped>\n",
       "    .dataframe tbody tr th:only-of-type {\n",
       "        vertical-align: middle;\n",
       "    }\n",
       "\n",
       "    .dataframe tbody tr th {\n",
       "        vertical-align: top;\n",
       "    }\n",
       "\n",
       "    .dataframe thead th {\n",
       "        text-align: right;\n",
       "    }\n",
       "</style>\n",
       "<table border=\"1\" class=\"dataframe\">\n",
       "  <thead>\n",
       "    <tr style=\"text-align: right;\">\n",
       "      <th></th>\n",
       "      <th>Credit_Month</th>\n",
       "      <th>Credit_Amount</th>\n",
       "      <th>Instalmen_percent</th>\n",
       "      <th>Current_add</th>\n",
       "      <th>age</th>\n",
       "      <th>no_credits</th>\n",
       "      <th>dependents</th>\n",
       "    </tr>\n",
       "  </thead>\n",
       "  <tbody>\n",
       "    <tr>\n",
       "      <td>Credit_Month</td>\n",
       "      <td>1.000000</td>\n",
       "      <td>0.624988</td>\n",
       "      <td>0.074749</td>\n",
       "      <td>0.034067</td>\n",
       "      <td>-0.037550</td>\n",
       "      <td>-0.011284</td>\n",
       "      <td>-0.023834</td>\n",
       "    </tr>\n",
       "    <tr>\n",
       "      <td>Credit_Amount</td>\n",
       "      <td>0.624988</td>\n",
       "      <td>1.000000</td>\n",
       "      <td>-0.271322</td>\n",
       "      <td>0.028917</td>\n",
       "      <td>0.032273</td>\n",
       "      <td>0.020785</td>\n",
       "      <td>0.017144</td>\n",
       "    </tr>\n",
       "    <tr>\n",
       "      <td>Instalmen_percent</td>\n",
       "      <td>0.074749</td>\n",
       "      <td>-0.271322</td>\n",
       "      <td>1.000000</td>\n",
       "      <td>0.049302</td>\n",
       "      <td>0.057271</td>\n",
       "      <td>0.021669</td>\n",
       "      <td>-0.071207</td>\n",
       "    </tr>\n",
       "    <tr>\n",
       "      <td>Current_add</td>\n",
       "      <td>0.034067</td>\n",
       "      <td>0.028917</td>\n",
       "      <td>0.049302</td>\n",
       "      <td>1.000000</td>\n",
       "      <td>0.265626</td>\n",
       "      <td>0.089625</td>\n",
       "      <td>0.042643</td>\n",
       "    </tr>\n",
       "    <tr>\n",
       "      <td>age</td>\n",
       "      <td>-0.037550</td>\n",
       "      <td>0.032273</td>\n",
       "      <td>0.057271</td>\n",
       "      <td>0.265626</td>\n",
       "      <td>1.000000</td>\n",
       "      <td>0.150718</td>\n",
       "      <td>0.118589</td>\n",
       "    </tr>\n",
       "    <tr>\n",
       "      <td>no_credits</td>\n",
       "      <td>-0.011284</td>\n",
       "      <td>0.020785</td>\n",
       "      <td>0.021669</td>\n",
       "      <td>0.089625</td>\n",
       "      <td>0.150718</td>\n",
       "      <td>1.000000</td>\n",
       "      <td>0.109667</td>\n",
       "    </tr>\n",
       "    <tr>\n",
       "      <td>dependents</td>\n",
       "      <td>-0.023834</td>\n",
       "      <td>0.017144</td>\n",
       "      <td>-0.071207</td>\n",
       "      <td>0.042643</td>\n",
       "      <td>0.118589</td>\n",
       "      <td>0.109667</td>\n",
       "      <td>1.000000</td>\n",
       "    </tr>\n",
       "  </tbody>\n",
       "</table>\n",
       "</div>"
      ],
      "text/plain": [
       "                   Credit_Month  Credit_Amount  Instalmen_percent  \\\n",
       "Credit_Month           1.000000       0.624988           0.074749   \n",
       "Credit_Amount          0.624988       1.000000          -0.271322   \n",
       "Instalmen_percent      0.074749      -0.271322           1.000000   \n",
       "Current_add            0.034067       0.028917           0.049302   \n",
       "age                   -0.037550       0.032273           0.057271   \n",
       "no_credits            -0.011284       0.020785           0.021669   \n",
       "dependents            -0.023834       0.017144          -0.071207   \n",
       "\n",
       "                   Current_add       age  no_credits  dependents  \n",
       "Credit_Month          0.034067 -0.037550   -0.011284   -0.023834  \n",
       "Credit_Amount         0.028917  0.032273    0.020785    0.017144  \n",
       "Instalmen_percent     0.049302  0.057271    0.021669   -0.071207  \n",
       "Current_add           1.000000  0.265626    0.089625    0.042643  \n",
       "age                   0.265626  1.000000    0.150718    0.118589  \n",
       "no_credits            0.089625  0.150718    1.000000    0.109667  \n",
       "dependents            0.042643  0.118589    0.109667    1.000000  "
      ]
     },
     "execution_count": 36,
     "metadata": {},
     "output_type": "execute_result"
    }
   ],
   "source": [
    "df.corr()"
   ]
  },
  {
   "cell_type": "code",
   "execution_count": 37,
   "metadata": {},
   "outputs": [],
   "source": [
    "df_new_0=df[df.Creditability==0]#bad credit\n",
    "df_new_1=df[df.Creditability==1]#good credit"
   ]
  },
  {
   "cell_type": "code",
   "execution_count": 38,
   "metadata": {},
   "outputs": [
    {
     "data": {
      "text/plain": [
       "<matplotlib.axes._subplots.AxesSubplot at 0x1c1d3400>"
      ]
     },
     "execution_count": 38,
     "metadata": {},
     "output_type": "execute_result"
    },
    {
     "data": {
      "image/png": "[encoded data removed]",
      "text/plain": [
       "<Figure size 432x288 with 1 Axes>"
      ]
     },
     "metadata": {
      "needs_background": "light"
     },
     "output_type": "display_data"
    }
   ],
   "source": [
    "df_new_0.plot.hist()#We understand from here that most people who dont pay back have low credit amount"
   ]
  },
  {
   "cell_type": "code",
   "execution_count": 39,
   "metadata": {},
   "outputs": [
    {
     "data": {
      "text/plain": [
       "<matplotlib.axes._subplots.AxesSubplot at 0x1c33a128>"
      ]
     },
     "execution_count": 39,
     "metadata": {},
     "output_type": "execute_result"
    },
    {
     "data": {
      "image/png": "[encoded data removed]",
      "text/plain": [
       "<Figure size 432x288 with 1 Axes>"
      ]
     },
     "metadata": {
      "needs_background": "light"
     },
     "output_type": "display_data"
    }
   ],
   "source": [
    "df_new_1.Credit_Amount.plot.hist()"
   ]
  },
  {
   "cell_type": "code",
   "execution_count": 40,
   "metadata": {},
   "outputs": [
    {
     "data": {
      "text/plain": [
       "<matplotlib.axes._subplots.AxesSubplot at 0x1c3bd9e8>"
      ]
     },
     "execution_count": 40,
     "metadata": {},
     "output_type": "execute_result"
    },
    {
     "data": {
      "image/png": "[encoded data removed]",
      "text/plain": [
       "<Figure size 432x288 with 1 Axes>"
      ]
     },
     "metadata": {
      "needs_background": "light"
     },
     "output_type": "display_data"
    }
   ],
   "source": [
    "df_new_0.age.plot.hist()#most people who dont pay back are between the age range of 20-45"
   ]
  },
  {
   "cell_type": "code",
   "execution_count": 41,
   "metadata": {},
   "outputs": [
    {
     "data": {
      "text/plain": [
       "<matplotlib.axes._subplots.AxesSubplot at 0x1c3a2390>"
      ]
     },
     "execution_count": 41,
     "metadata": {},
     "output_type": "execute_result"
    },
    {
     "data": {
      "image/png": "[encoded data removed]",
      "text/plain": [
       "<Figure size 432x288 with 1 Axes>"
      ]
     },
     "metadata": {
      "needs_background": "light"
     },
     "output_type": "display_data"
    }
   ],
   "source": [
    "df_new_1.age.plot.hist()"
   ]
  },
  {
   "cell_type": "code",
   "execution_count": 42,
   "metadata": {},
   "outputs": [
    {
     "data": {
      "text/plain": [
       "<matplotlib.axes._subplots.AxesSubplot at 0x1c4bb390>"
      ]
     },
     "execution_count": 42,
     "metadata": {},
     "output_type": "execute_result"
    },
    {
     "data": {
      "image/png": "[encoded data removed]",
      "text/plain": [
       "<Figure size 432x288 with 1 Axes>"
      ]
     },
     "metadata": {
      "needs_background": "light"
     },
     "output_type": "display_data"
    }
   ],
   "source": [
    "df_new_0.Credit_Month.plot.hist()#most people who dont pay back take loans between 5-25 months duration"
   ]
  },
  {
   "cell_type": "code",
   "execution_count": 43,
   "metadata": {},
   "outputs": [
    {
     "data": {
      "text/plain": [
       "<matplotlib.axes._subplots.AxesSubplot at 0x1c53a438>"
      ]
     },
     "execution_count": 43,
     "metadata": {},
     "output_type": "execute_result"
    },
    {
     "data": {
      "image/png": "[encoded data removed]",
      "text/plain": [
       "<Figure size 432x288 with 1 Axes>"
      ]
     },
     "metadata": {
      "needs_background": "light"
     },
     "output_type": "display_data"
    }
   ],
   "source": [
    "df_new_0.Instalmen_percent.plot.hist() #people with installment percent 4 default the highest"
   ]
  },
  {
   "cell_type": "code",
   "execution_count": 44,
   "metadata": {},
   "outputs": [
    {
     "data": {
      "text/plain": [
       "<matplotlib.axes._subplots.AxesSubplot at 0x1d594630>"
      ]
     },
     "execution_count": 44,
     "metadata": {},
     "output_type": "execute_result"
    },
    {
     "data": {
      "image/png": "[encoded data removed]",
      "text/plain": [
       "<Figure size 432x288 with 1 Axes>"
      ]
     },
     "metadata": {
      "needs_background": "light"
     },
     "output_type": "display_data"
    }
   ],
   "source": [
    "df_new_0.dependents.plot.hist()"
   ]
  },
  {
   "cell_type": "code",
   "execution_count": 45,
   "metadata": {},
   "outputs": [
    {
     "data": {
      "text/plain": [
       "<matplotlib.axes._subplots.AxesSubplot at 0x1d5635f8>"
      ]
     },
     "execution_count": 45,
     "metadata": {},
     "output_type": "execute_result"
    },
    {
     "data": {
      "image/png": "[encoded data removed]",
      "text/plain": [
       "<Figure size 432x288 with 1 Axes>"
      ]
     },
     "metadata": {
      "needs_background": "light"
     },
     "output_type": "display_data"
    }
   ],
   "source": [
    "df_new_0.no_credits.plot.hist()#people who dont pay back when they have one loan is large"
   ]
  },
  {
   "cell_type": "code",
   "execution_count": 46,
   "metadata": {},
   "outputs": [
    {
     "data": {
      "text/plain": [
       "<matplotlib.axes._subplots.AxesSubplot at 0x1d682f98>"
      ]
     },
     "execution_count": 46,
     "metadata": {},
     "output_type": "execute_result"
    },
    {
     "data": {
      "image/png": "[encoded data removed]",
      "text/plain": [
       "<Figure size 432x288 with 1 Axes>"
      ]
     },
     "metadata": {
      "needs_background": "light"
     },
     "output_type": "display_data"
    }
   ],
   "source": [
    "df_new_1.no_credits.plot.hist()"
   ]
  },
  {
   "cell_type": "code",
   "execution_count": 47,
   "metadata": {},
   "outputs": [
    {
     "data": {
      "text/plain": [
       "<matplotlib.axes._subplots.AxesSubplot at 0x1d6a2978>"
      ]
     },
     "execution_count": 47,
     "metadata": {},
     "output_type": "execute_result"
    },
    {
     "data": {
      "image/png": "[encoded data removed]",
      "text/plain": [
       "<Figure size 432x288 with 1 Axes>"
      ]
     },
     "metadata": {
      "needs_background": "light"
     },
     "output_type": "display_data"
    }
   ],
   "source": [
    "df_new_0.Current_add.plot.hist()"
   ]
  },
  {
   "cell_type": "code",
   "execution_count": 48,
   "metadata": {},
   "outputs": [
    {
     "data": {
      "text/plain": [
       "<matplotlib.axes._subplots.AxesSubplot at 0x1d7639b0>"
      ]
     },
     "execution_count": 48,
     "metadata": {},
     "output_type": "execute_result"
    },
    {
     "data": {
      "image/png": "[encoded data removed]",
      "text/plain": [
       "<Figure size 432x288 with 1 Axes>"
      ]
     },
     "metadata": {
      "needs_background": "light"
     },
     "output_type": "display_data"
    }
   ],
   "source": [
    "sc.scatterplot(x=df_new_0.Credit_Amount,y=df_new_0.Credit_Month,data=df_new_0,hue=df_new_0.age) \n",
    "#as the months increase the amount has increased and also most of the frauds will take place where the month and \n",
    "#amount is small \n",
    "#Most of the frauds were with age-groups of 20-40"
   ]
  },
  {
   "cell_type": "code",
   "execution_count": 49,
   "metadata": {},
   "outputs": [
    {
     "data": {
      "text/plain": [
       "<matplotlib.axes._subplots.AxesSubplot at 0x1d80ffd0>"
      ]
     },
     "execution_count": 49,
     "metadata": {},
     "output_type": "execute_result"
    },
    {
     "data": {
      "image/png": "[encoded data removed]",
      "text/plain": [
       "<Figure size 432x288 with 1 Axes>"
      ]
     },
     "metadata": {
      "needs_background": "light"
     },
     "output_type": "display_data"
    }
   ],
   "source": [
    "sc.scatterplot(x=df_new_0.age,y=df_new_0.Credit_Amount,data=df_new_0)"
   ]
  },
  {
   "cell_type": "code",
   "execution_count": 50,
   "metadata": {},
   "outputs": [
    {
     "data": {
      "text/plain": [
       "<matplotlib.axes._subplots.AxesSubplot at 0x1d86d6a0>"
      ]
     },
     "execution_count": 50,
     "metadata": {},
     "output_type": "execute_result"
    },
    {
     "data": {
      "image/png": "[encoded data removed]",
      "text/plain": [
       "<Figure size 432x288 with 1 Axes>"
      ]
     },
     "metadata": {
      "needs_background": "light"
     },
     "output_type": "display_data"
    }
   ],
   "source": [
    "sc.scatterplot(x=df_new_0.Sex,y=df_new_0.Credit_Amount,data=df_new_0)"
   ]
  },
  {
   "cell_type": "markdown",
   "metadata": {},
   "source": [
    "### Step 7: Working with categorical variables"
   ]
  },
  {
   "cell_type": "code",
   "execution_count": 51,
   "metadata": {},
   "outputs": [
    {
     "data": {
      "text/plain": [
       "1    963\n",
       "2     37\n",
       "Name: Foreign_Worker, dtype: int64"
      ]
     },
     "execution_count": 51,
     "metadata": {},
     "output_type": "execute_result"
    }
   ],
   "source": [
    "#Foreign_worker\n",
    "df.Foreign_Worker.value_counts()"
   ]
  },
  {
   "cell_type": "code",
   "execution_count": 52,
   "metadata": {},
   "outputs": [
    {
     "data": {
      "text/plain": [
       "(296, 21)"
      ]
     },
     "execution_count": 52,
     "metadata": {},
     "output_type": "execute_result"
    }
   ],
   "source": [
    "df[(df.Creditability==0)&(df.Foreign_Worker==1)].shape#296 cases of foreign workers and have not paid."
   ]
  },
  {
   "cell_type": "code",
   "execution_count": 53,
   "metadata": {},
   "outputs": [
    {
     "data": {
      "text/plain": [
       "(4, 21)"
      ]
     },
     "execution_count": 53,
     "metadata": {},
     "output_type": "execute_result"
    }
   ],
   "source": [
    "df[(df.Creditability==0)&(df.Foreign_Worker==2)].shape#4 cases of not foreign workers and have not paid."
   ]
  },
  {
   "cell_type": "code",
   "execution_count": 54,
   "metadata": {},
   "outputs": [
    {
     "name": "stdout",
     "output_type": "stream",
     "text": [
      "259.3810724617733\n",
      "1.0\n",
      "999\n",
      "[[0.80598733 1.19401267]\n",
      " [0.80598733 1.19401267]\n",
      " [0.80598733 1.19401267]\n",
      " ...\n",
      " [0.40299367 0.59700633]\n",
      " [0.40299367 0.59700633]\n",
      " [0.40299367 0.59700633]]\n"
     ]
    }
   ],
   "source": [
    "#here we are going to be  using the chi square test to determine if the Foreign worker has high correlation with our \n",
    "#target variable Creditability or not.\n",
    "#the null hypothesis for the chisquare test is that the two categorical variables have no relation in between them\n",
    "#here as the p value > 0.05 we can reject this null hypothesis\n",
    "import scipy.stats\n",
    "chi2_stat,p_val,dof,ex=scipy.stats.chi2_contingency(df.loc[:,['Creditability','Foreign_Worker']])\n",
    "print(chi2_stat)\n",
    "print(p_val)\n",
    "print(dof)\n",
    "print(ex)"
   ]
  },
  {
   "cell_type": "code",
   "execution_count": 55,
   "metadata": {},
   "outputs": [
    {
     "data": {
      "text/plain": [
       "Index(['Creditability', 'Account_Balance', 'Credit_Month', 'Credit_History',\n",
       "       'Purpose', 'Credit_Amount', 'Value_Savings', 'Emp_Len',\n",
       "       'Instalmen_percent', 'Sex', 'Guarantors', 'Current_add', 'asset', 'age',\n",
       "       'Concurrent_Credits', 'Type_of_apartment', 'no_credits', 'Occupation',\n",
       "       'dependents', 'Telephone', 'Foreign_Worker'],\n",
       "      dtype='object')"
      ]
     },
     "execution_count": 55,
     "metadata": {},
     "output_type": "execute_result"
    }
   ],
   "source": [
    "df.columns"
   ]
  },
  {
   "cell_type": "code",
   "execution_count": 56,
   "metadata": {},
   "outputs": [
    {
     "name": "stdout",
     "output_type": "stream",
     "text": [
      "309.04052096052123\n",
      "1.0\n",
      "999\n",
      "[[0.66539924 1.33460076]\n",
      " [0.66539924 1.33460076]\n",
      " [0.66539924 1.33460076]\n",
      " ...\n",
      " [0.66539924 1.33460076]\n",
      " [0.66539924 1.33460076]\n",
      " [0.33269962 0.66730038]]\n",
      "319.0972522628874\n",
      "1.0\n",
      "999\n",
      "[[0.77691454 3.22308546]\n",
      " [0.77691454 3.22308546]\n",
      " [0.5826859  2.4173141 ]\n",
      " ...\n",
      " [0.77691454 3.22308546]\n",
      " [0.77691454 3.22308546]\n",
      " [0.5826859  2.4173141 ]]\n",
      "305.99959988144667\n",
      "1.0\n",
      "999\n",
      "[[0.53272451 1.46727549]\n",
      " [0.53272451 1.46727549]\n",
      " [0.53272451 1.46727549]\n",
      " ...\n",
      " [0.79908676 2.20091324]\n",
      " [0.53272451 1.46727549]\n",
      " [0.53272451 1.46727549]]\n",
      "320.26451935914616\n",
      "1.0\n",
      "999\n",
      "[[0.82962963 3.17037037]\n",
      " [0.82962963 3.17037037]\n",
      " [0.82962963 3.17037037]\n",
      " ...\n",
      " [0.62222222 2.37777778]\n",
      " [0.62222222 2.37777778]\n",
      " [0.62222222 2.37777778]]\n",
      "449.4457180823113\n",
      "1.0\n",
      "999\n",
      "[[0.68672335 2.31327665]\n",
      " [0.45781557 1.54218443]\n",
      " [0.45781557 1.54218443]\n",
      " ...\n",
      " [0.91563113 3.08436887]\n",
      " [0.91563113 3.08436887]\n",
      " [0.45781557 1.54218443]]\n",
      "310.8071330563541\n",
      "1.0\n",
      "999\n",
      "[[0.62093436 2.37906564]\n",
      " [0.82791248 3.17208752]\n",
      " [0.62093436 2.37906564]\n",
      " ...\n",
      " [0.62093436 2.37906564]\n",
      " [0.62093436 2.37906564]\n",
      " [0.62093436 2.37906564]]\n",
      "297.6515595757928\n",
      "1.0\n",
      "999\n",
      "[[0.75880759 1.24119241]\n",
      " [0.75880759 1.24119241]\n",
      " [0.75880759 1.24119241]\n",
      " ...\n",
      " [0.37940379 0.62059621]\n",
      " [0.37940379 0.62059621]\n",
      " [0.37940379 0.62059621]]\n",
      "357.4758578183021\n",
      "1.0\n",
      "999\n",
      "[[0.51420176 2.48579824]\n",
      " [0.68560235 3.31439765]\n",
      " [0.85700294 4.14299706]\n",
      " ...\n",
      " [0.85700294 4.14299706]\n",
      " [0.17140059 0.82859941]\n",
      " [0.85700294 4.14299706]]\n",
      "469.2440430946744\n",
      "1.0\n",
      "999\n",
      "[[0.49910873 1.50089127]\n",
      " [0.49910873 1.50089127]\n",
      " [0.7486631  2.2513369 ]\n",
      " ...\n",
      " [1.24777184 3.75222816]\n",
      " [1.24777184 3.75222816]\n",
      " [1.24777184 3.75222816]]\n",
      "336.28646422565913\n",
      "1.0\n",
      "999\n",
      "[[0.42722002 1.57277998]\n",
      " [0.42722002 1.57277998]\n",
      " [0.64083003 2.35916997]\n",
      " ...\n",
      " [0.85444004 3.14555996]\n",
      " [0.42722002 1.57277998]\n",
      " [0.21361001 0.78638999]]\n"
     ]
    },
    {
     "ename": "ValueError",
     "evalue": "The internally computed table of expected frequencies has a zero element at (45, 0).",
     "output_type": "error",
     "traceback": [
      "\u001b[1;31m---------------------------------------------------------------------------\u001b[0m",
      "\u001b[1;31mValueError\u001b[0m                                Traceback (most recent call last)",
      "\u001b[1;32m<ipython-input-56-eeadcc1b956e>\u001b[0m in \u001b[0;36m<module>\u001b[1;34m\u001b[0m\n\u001b[0;32m     55\u001b[0m \u001b[0mprint\u001b[0m\u001b[1;33m(\u001b[0m\u001b[0mdof\u001b[0m\u001b[1;33m)\u001b[0m\u001b[1;33m\u001b[0m\u001b[1;33m\u001b[0m\u001b[0m\n\u001b[0;32m     56\u001b[0m \u001b[0mprint\u001b[0m\u001b[1;33m(\u001b[0m\u001b[0mex\u001b[0m\u001b[1;33m)\u001b[0m\u001b[1;33m\u001b[0m\u001b[1;33m\u001b[0m\u001b[0m\n\u001b[1;32m---> 57\u001b[1;33m \u001b[0mchi2_stat\u001b[0m\u001b[1;33m,\u001b[0m\u001b[0mp_val\u001b[0m\u001b[1;33m,\u001b[0m\u001b[0mdof\u001b[0m\u001b[1;33m,\u001b[0m\u001b[0mex\u001b[0m\u001b[1;33m=\u001b[0m\u001b[0mscipy\u001b[0m\u001b[1;33m.\u001b[0m\u001b[0mstats\u001b[0m\u001b[1;33m.\u001b[0m\u001b[0mchi2_contingency\u001b[0m\u001b[1;33m(\u001b[0m\u001b[0mdf\u001b[0m\u001b[1;33m.\u001b[0m\u001b[0mloc\u001b[0m\u001b[1;33m[\u001b[0m\u001b[1;33m:\u001b[0m\u001b[1;33m,\u001b[0m\u001b[1;33m[\u001b[0m\u001b[1;34m'Creditability'\u001b[0m\u001b[1;33m,\u001b[0m\u001b[1;34m'Purpose'\u001b[0m\u001b[1;33m]\u001b[0m\u001b[1;33m]\u001b[0m\u001b[1;33m)\u001b[0m\u001b[1;33m\u001b[0m\u001b[1;33m\u001b[0m\u001b[0m\n\u001b[0m\u001b[0;32m     58\u001b[0m \u001b[0mprint\u001b[0m\u001b[1;33m(\u001b[0m\u001b[0mchi2_stat\u001b[0m\u001b[1;33m)\u001b[0m\u001b[1;33m\u001b[0m\u001b[1;33m\u001b[0m\u001b[0m\n\u001b[0;32m     59\u001b[0m \u001b[0mprint\u001b[0m\u001b[1;33m(\u001b[0m\u001b[0mp_val\u001b[0m\u001b[1;33m)\u001b[0m\u001b[1;33m\u001b[0m\u001b[1;33m\u001b[0m\u001b[0m\n",
      "\u001b[1;32me:\\myenv\\lib\\site-packages\\scipy\\stats\\contingency.py\u001b[0m in \u001b[0;36mchi2_contingency\u001b[1;34m(observed, correction, lambda_)\u001b[0m\n\u001b[0;32m    253\u001b[0m         \u001b[0mzeropos\u001b[0m \u001b[1;33m=\u001b[0m \u001b[0mlist\u001b[0m\u001b[1;33m(\u001b[0m\u001b[0mzip\u001b[0m\u001b[1;33m(\u001b[0m\u001b[1;33m*\u001b[0m\u001b[0mnp\u001b[0m\u001b[1;33m.\u001b[0m\u001b[0mnonzero\u001b[0m\u001b[1;33m(\u001b[0m\u001b[0mexpected\u001b[0m \u001b[1;33m==\u001b[0m \u001b[1;36m0\u001b[0m\u001b[1;33m)\u001b[0m\u001b[1;33m)\u001b[0m\u001b[1;33m)\u001b[0m\u001b[1;33m[\u001b[0m\u001b[1;36m0\u001b[0m\u001b[1;33m]\u001b[0m\u001b[1;33m\u001b[0m\u001b[1;33m\u001b[0m\u001b[0m\n\u001b[0;32m    254\u001b[0m         raise ValueError(\"The internally computed table of expected \"\n\u001b[1;32m--> 255\u001b[1;33m                          \"frequencies has a zero element at %s.\" % (zeropos,))\n\u001b[0m\u001b[0;32m    256\u001b[0m \u001b[1;33m\u001b[0m\u001b[0m\n\u001b[0;32m    257\u001b[0m     \u001b[1;31m# The degrees of freedom\u001b[0m\u001b[1;33m\u001b[0m\u001b[1;33m\u001b[0m\u001b[1;33m\u001b[0m\u001b[0m\n",
      "\u001b[1;31mValueError\u001b[0m: The internally computed table of expected frequencies has a zero element at (45, 0)."
     ]
    }
   ],
   "source": [
    "import scipy.stats\n",
    "chi2_stat,p_val,dof,ex=scipy.stats.chi2_contingency(df.loc[:,['Creditability','Telephone']])\n",
    "print(chi2_stat)\n",
    "print(p_val)\n",
    "print(dof)\n",
    "print(ex)\n",
    "import scipy.stats\n",
    "chi2_stat,p_val,dof,ex=scipy.stats.chi2_contingency(df.loc[:,['Creditability','Occupation']])\n",
    "print(chi2_stat)\n",
    "print(p_val)\n",
    "print(dof)\n",
    "print(ex)\n",
    "import scipy.stats\n",
    "chi2_stat,p_val,dof,ex=scipy.stats.chi2_contingency(df.loc[:,['Creditability','Type_of_apartment']])\n",
    "print(chi2_stat)\n",
    "print(p_val)\n",
    "print(dof)\n",
    "print(ex)\n",
    "import scipy.stats\n",
    "chi2_stat,p_val,dof,ex=scipy.stats.chi2_contingency(df.loc[:,['Creditability','Concurrent_Credits']])\n",
    "print(chi2_stat)\n",
    "print(p_val)\n",
    "print(dof)\n",
    "print(ex)\n",
    "import scipy.stats\n",
    "chi2_stat,p_val,dof,ex=scipy.stats.chi2_contingency(df.loc[:,['Creditability','asset']])\n",
    "print(chi2_stat)\n",
    "print(p_val)\n",
    "print(dof)\n",
    "print(ex)\n",
    "import scipy.stats\n",
    "chi2_stat,p_val,dof,ex=scipy.stats.chi2_contingency(df.loc[:,['Creditability','Sex']])\n",
    "print(chi2_stat)\n",
    "print(p_val)\n",
    "print(dof)\n",
    "print(ex)\n",
    "chi2_stat,p_val,dof,ex=scipy.stats.chi2_contingency(df.loc[:,['Creditability','Guarantors']])\n",
    "print(chi2_stat)\n",
    "print(p_val)\n",
    "print(dof)\n",
    "print(ex)\n",
    "chi2_stat,p_val,dof,ex=scipy.stats.chi2_contingency(df.loc[:,['Creditability','Emp_Len']])\n",
    "print(chi2_stat)\n",
    "print(p_val)\n",
    "print(dof)\n",
    "print(ex)\n",
    "chi2_stat,p_val,dof,ex=scipy.stats.chi2_contingency(df.loc[:,['Creditability','Value_Savings']])\n",
    "print(chi2_stat)\n",
    "print(p_val)\n",
    "print(dof)\n",
    "print(ex)\n",
    "chi2_stat,p_val,dof,ex=scipy.stats.chi2_contingency(df.loc[:,['Creditability','Account_Balance']])\n",
    "print(chi2_stat)\n",
    "print(p_val)\n",
    "print(dof)\n",
    "print(ex)\n",
    "chi2_stat,p_val,dof,ex=scipy.stats.chi2_contingency(df.loc[:,['Creditability','Purpose']])\n",
    "print(chi2_stat)\n",
    "print(p_val)\n",
    "print(dof)\n",
    "print(ex)"
   ]
  },
  {
   "cell_type": "markdown",
   "metadata": {},
   "source": [
    "### Step 8: building a basic model"
   ]
  },
  {
   "cell_type": "code",
   "execution_count": 57,
   "metadata": {},
   "outputs": [],
   "source": [
    "X=df.loc[:,['Account_Balance', 'Credit_Month', 'Credit_History',\n",
    "       'Purpose', 'Credit_Amount', 'Value_Savings', 'Emp_Len',\n",
    "       'Instalmen_percent', 'Sex', 'Guarantors', 'Current_add', 'asset', 'age',\n",
    "       'Concurrent_Credits', 'Type_of_apartment', 'no_credits', 'Occupation',\n",
    "       'dependents', 'Telephone', 'Foreign_Worker']]"
   ]
  },
  {
   "cell_type": "code",
   "execution_count": 59,
   "metadata": {},
   "outputs": [
    {
     "name": "stderr",
     "output_type": "stream",
     "text": [
      "e:\\myenv\\lib\\site-packages\\sklearn\\linear_model\\logistic.py:432: FutureWarning: Default solver will be changed to 'lbfgs' in 0.22. Specify a solver to silence this warning.\n",
      "  FutureWarning)\n",
      "e:\\myenv\\lib\\site-packages\\sklearn\\utils\\validation.py:724: DataConversionWarning: A column-vector y was passed when a 1d array was expected. Please change the shape of y to (n_samples, ), for example using ravel().\n",
      "  y = column_or_1d(y, warn=True)\n"
     ]
    }
   ],
   "source": [
    "Y=df.loc[:,['Creditability']]\n",
    "from sklearn.model_selection import train_test_split\n",
    "X_train, X_test, y_train, y_test = train_test_split(X, Y, random_state = 147, test_size = 0.3)\n",
    "from sklearn.linear_model import LogisticRegression\n",
    "model1 = LogisticRegression().fit(X_train,y_train)"
   ]
  },
  {
   "cell_type": "code",
   "execution_count": 60,
   "metadata": {},
   "outputs": [
    {
     "data": {
      "text/plain": [
       "array([[ 5.61316223e-01, -3.01900765e-02,  4.24102702e-01,\n",
       "         2.76301484e-02, -4.58293218e-05,  1.74181262e-01,\n",
       "         1.54500964e-01, -2.54204217e-01,  2.15523058e-02,\n",
       "         2.39005336e-01, -2.91372878e-02, -2.43396755e-01,\n",
       "         9.65732097e-03,  3.53266497e-02,  2.53540304e-01,\n",
       "        -2.50926537e-01, -9.78118738e-02, -3.30094639e-01,\n",
       "         2.09897361e-01, -1.78807125e-01]])"
      ]
     },
     "execution_count": 60,
     "metadata": {},
     "output_type": "execute_result"
    }
   ],
   "source": [
    "model1.coef_"
   ]
  },
  {
   "cell_type": "code",
   "execution_count": 61,
   "metadata": {},
   "outputs": [
    {
     "name": "stdout",
     "output_type": "stream",
     "text": [
      "[[108 116]\n",
      " [ 57 419]]\n",
      "Acc: 0.7528571428571429\n",
      "Recall: 0.8802521008403361\n",
      "Pre: 0.7831775700934579\n",
      "AUC: 0.6811974789915967\n"
     ]
    }
   ],
   "source": [
    "y_train_p=model1.predict(X_train)\n",
    "from sklearn import metrics\n",
    "cnf_matrix = metrics.confusion_matrix(y_train, y_train_p)\n",
    "print(cnf_matrix)\n",
    "print(\"Acc:\",metrics.accuracy_score(y_train, y_train_p))\n",
    "print(\"Recall:\",metrics.recall_score(y_train, y_train_p))\n",
    "print(\"Pre:\",metrics.precision_score(y_train, y_train_p))\n",
    "print(\"AUC:\",metrics.roc_auc_score(y_train, y_train_p))"
   ]
  },
  {
   "cell_type": "code",
   "execution_count": 62,
   "metadata": {},
   "outputs": [
    {
     "name": "stdout",
     "output_type": "stream",
     "text": [
      "[[ 41  35]\n",
      " [ 26 198]]\n",
      "Acc: 0.7966666666666666\n",
      "Recall: 0.8839285714285714\n",
      "Pre: 0.8497854077253219\n",
      "AUC: 0.7117011278195489\n"
     ]
    }
   ],
   "source": [
    "y_test_p=model1.predict(X_test)\n",
    "cnf_matrix = metrics.confusion_matrix(y_test, y_test_p)\n",
    "print(cnf_matrix)\n",
    "print(\"Acc:\",metrics.accuracy_score(y_test, y_test_p))\n",
    "print(\"Recall:\",metrics.recall_score(y_test, y_test_p))\n",
    "print(\"Pre:\",metrics.precision_score(y_test, y_test_p))\n",
    "print(\"AUC:\",metrics.roc_auc_score(y_test, y_test_p))"
   ]
  },
  {
   "cell_type": "code",
   "execution_count": 71,
   "metadata": {},
   "outputs": [
    {
     "data": {
      "text/plain": [
       "Creditability         category\n",
       "Account_Balance       category\n",
       "Credit_Month             int64\n",
       "Credit_History        category\n",
       "Purpose               category\n",
       "Credit_Amount            int64\n",
       "Value_Savings         category\n",
       "Emp_Len               category\n",
       "Instalmen_percent        int64\n",
       "Sex                   category\n",
       "Guarantors            category\n",
       "Current_add              int64\n",
       "asset                 category\n",
       "age                      int64\n",
       "Concurrent_Credits    category\n",
       "Type_of_apartment     category\n",
       "no_credits               int64\n",
       "Occupation            category\n",
       "dependents               int64\n",
       "Telephone             category\n",
       "Foreign_Worker        category\n",
       "dtype: object"
      ]
     },
     "execution_count": 71,
     "metadata": {},
     "output_type": "execute_result"
    }
   ],
   "source": [
    "df.dtypes"
   ]
  },
  {
   "cell_type": "markdown",
   "metadata": {},
   "source": [
    "### Plotting categorical variables in our dataset using barplots"
   ]
  },
  {
   "cell_type": "code",
   "execution_count": 67,
   "metadata": {},
   "outputs": [],
   "source": [
    "creds=df.Creditability.value_counts()"
   ]
  },
  {
   "cell_type": "code",
   "execution_count": 69,
   "metadata": {},
   "outputs": [
    {
     "data": {
      "text/plain": [
       "<matplotlib.axes._subplots.AxesSubplot at 0x1d6e7a20>"
      ]
     },
     "execution_count": 69,
     "metadata": {},
     "output_type": "execute_result"
    },
    {
     "data": {
      "image/png": "[encoded data removed]",
      "text/plain": [
       "<Figure size 432x288 with 1 Axes>"
      ]
     },
     "metadata": {
      "needs_background": "light"
     },
     "output_type": "display_data"
    }
   ],
   "source": [
    "creds.plot.bar()"
   ]
  },
  {
   "cell_type": "code",
   "execution_count": 74,
   "metadata": {},
   "outputs": [],
   "source": [
    "acc_bal=df.Account_Balance.value_counts()"
   ]
  },
  {
   "cell_type": "code",
   "execution_count": 75,
   "metadata": {},
   "outputs": [
    {
     "data": {
      "text/plain": [
       "<matplotlib.axes._subplots.AxesSubplot at 0x222534e0>"
      ]
     },
     "execution_count": 75,
     "metadata": {},
     "output_type": "execute_result"
    },
    {
     "data": {
      "image/png": "[encoded data removed]",
      "text/plain": [
       "<Figure size 432x288 with 1 Axes>"
      ]
     },
     "metadata": {
      "needs_background": "light"
     },
     "output_type": "display_data"
    }
   ],
   "source": [
    "acc_bal.plot.bar()"
   ]
  },
  {
   "cell_type": "code",
   "execution_count": 76,
   "metadata": {},
   "outputs": [],
   "source": [
    "cred_hist=df.Credit_History.value_counts()"
   ]
  },
  {
   "cell_type": "code",
   "execution_count": 77,
   "metadata": {},
   "outputs": [
    {
     "data": {
      "text/plain": [
       "<matplotlib.axes._subplots.AxesSubplot at 0x222985c0>"
      ]
     },
     "execution_count": 77,
     "metadata": {},
     "output_type": "execute_result"
    },
    {
     "data": {
      "image/png": "[encoded data removed]",
      "text/plain": [
       "<Figure size 432x288 with 1 Axes>"
      ]
     },
     "metadata": {
      "needs_background": "light"
     },
     "output_type": "display_data"
    }
   ],
   "source": [
    "cred_hist.plot.bar()"
   ]
  },
  {
   "cell_type": "code",
   "execution_count": 78,
   "metadata": {},
   "outputs": [],
   "source": [
    "purp=df.Purpose.value_counts()"
   ]
  },
  {
   "cell_type": "code",
   "execution_count": 79,
   "metadata": {},
   "outputs": [
    {
     "data": {
      "text/plain": [
       "<matplotlib.axes._subplots.AxesSubplot at 0x22b509b0>"
      ]
     },
     "execution_count": 79,
     "metadata": {},
     "output_type": "execute_result"
    },
    {
     "data": {
      "image/png": "[encoded data removed]",
      "text/plain": [
       "<Figure size 432x288 with 1 Axes>"
      ]
     },
     "metadata": {
      "needs_background": "light"
     },
     "output_type": "display_data"
    }
   ],
   "source": [
    "purp.plot.bar()"
   ]
  },
  {
   "cell_type": "code",
   "execution_count": 81,
   "metadata": {},
   "outputs": [
    {
     "data": {
      "text/plain": [
       "<matplotlib.axes._subplots.AxesSubplot at 0x2288a898>"
      ]
     },
     "execution_count": 81,
     "metadata": {},
     "output_type": "execute_result"
    },
    {
     "data": {
      "image/png": "[encoded data removed]",
      "text/plain": [
       "<Figure size 432x288 with 1 Axes>"
      ]
     },
     "metadata": {
      "needs_background": "light"
     },
     "output_type": "display_data"
    }
   ],
   "source": [
    "val_sav=df.Value_Savings.value_counts()\n",
    "val_sav.plot.bar()"
   ]
  },
  {
   "cell_type": "code",
   "execution_count": 83,
   "metadata": {},
   "outputs": [
    {
     "data": {
      "text/plain": [
       "<matplotlib.axes._subplots.AxesSubplot at 0x2282d400>"
      ]
     },
     "execution_count": 83,
     "metadata": {},
     "output_type": "execute_result"
    },
    {
     "data": {
      "image/png": "[encoded data removed]",
      "text/plain": [
       "<Figure size 432x288 with 1 Axes>"
      ]
     },
     "metadata": {
      "needs_background": "light"
     },
     "output_type": "display_data"
    }
   ],
   "source": [
    "emp_len=df.Emp_Len.value_counts()\n",
    "emp_len.plot.bar()"
   ]
  },
  {
   "cell_type": "code",
   "execution_count": 85,
   "metadata": {},
   "outputs": [
    {
     "data": {
      "text/plain": [
       "<matplotlib.axes._subplots.AxesSubplot at 0x22867828>"
      ]
     },
     "execution_count": 85,
     "metadata": {},
     "output_type": "execute_result"
    },
    {
     "data": {
      "image/png": "[encoded data removed]",
      "text/plain": [
       "<Figure size 432x288 with 1 Axes>"
      ]
     },
     "metadata": {
      "needs_background": "light"
     },
     "output_type": "display_data"
    }
   ],
   "source": [
    "sex=df.Sex.value_counts()\n",
    "sex.plot.bar()"
   ]
  },
  {
   "cell_type": "code",
   "execution_count": 87,
   "metadata": {},
   "outputs": [
    {
     "data": {
      "text/plain": [
       "<matplotlib.axes._subplots.AxesSubplot at 0x22843cf8>"
      ]
     },
     "execution_count": 87,
     "metadata": {},
     "output_type": "execute_result"
    },
    {
     "data": {
      "image/png": "[encoded data removed]",
      "text/plain": [
       "<Figure size 432x288 with 1 Axes>"
      ]
     },
     "metadata": {
      "needs_background": "light"
     },
     "output_type": "display_data"
    }
   ],
   "source": [
    "gur=df.Guarantors.value_counts()\n",
    "gur.plot.bar()"
   ]
  },
  {
   "cell_type": "code",
   "execution_count": 89,
   "metadata": {},
   "outputs": [
    {
     "data": {
      "text/plain": [
       "<matplotlib.axes._subplots.AxesSubplot at 0x23cc7a20>"
      ]
     },
     "execution_count": 89,
     "metadata": {},
     "output_type": "execute_result"
    },
    {
     "data": {
      "image/png": "[encoded data removed]",
      "text/plain": [
       "<Figure size 432x288 with 1 Axes>"
      ]
     },
     "metadata": {
      "needs_background": "light"
     },
     "output_type": "display_data"
    }
   ],
   "source": [
    "assets=df.asset.value_counts()\n",
    "assets.plot.bar()"
   ]
  },
  {
   "cell_type": "code",
   "execution_count": 90,
   "metadata": {},
   "outputs": [
    {
     "data": {
      "text/plain": [
       "Creditability         category\n",
       "Account_Balance       category\n",
       "Credit_Month             int64\n",
       "Credit_History        category\n",
       "Purpose               category\n",
       "Credit_Amount            int64\n",
       "Value_Savings         category\n",
       "Emp_Len               category\n",
       "Instalmen_percent        int64\n",
       "Sex                   category\n",
       "Guarantors            category\n",
       "Current_add              int64\n",
       "asset                 category\n",
       "age                      int64\n",
       "Concurrent_Credits    category\n",
       "Type_of_apartment     category\n",
       "no_credits               int64\n",
       "Occupation            category\n",
       "dependents               int64\n",
       "Telephone             category\n",
       "Foreign_Worker        category\n",
       "dtype: object"
      ]
     },
     "execution_count": 90,
     "metadata": {},
     "output_type": "execute_result"
    }
   ],
   "source": [
    "df.dtypes"
   ]
  },
  {
   "cell_type": "code",
   "execution_count": 91,
   "metadata": {},
   "outputs": [
    {
     "data": {
      "text/plain": [
       "<matplotlib.axes._subplots.AxesSubplot at 0x23cb69e8>"
      ]
     },
     "execution_count": 91,
     "metadata": {},
     "output_type": "execute_result"
    },
    {
     "data": {
      "image/png": "[encoded data removed]",
      "text/plain": [
       "<Figure size 432x288 with 1 Axes>"
      ]
     },
     "metadata": {
      "needs_background": "light"
     },
     "output_type": "display_data"
    }
   ],
   "source": [
    "conc_cred=df.Concurrent_Credits.value_counts()\n",
    "conc_cred.plot.bar()"
   ]
  },
  {
   "cell_type": "code",
   "execution_count": 93,
   "metadata": {},
   "outputs": [
    {
     "data": {
      "text/plain": [
       "<matplotlib.axes._subplots.AxesSubplot at 0x229d4fd0>"
      ]
     },
     "execution_count": 93,
     "metadata": {},
     "output_type": "execute_result"
    },
    {
     "data": {
      "image/png": "[encoded data removed]",
      "text/plain": [
       "<Figure size 432x288 with 1 Axes>"
      ]
     },
     "metadata": {
      "needs_background": "light"
     },
     "output_type": "display_data"
    }
   ],
   "source": [
    "type_of_apt=df.Type_of_apartment.value_counts()\n",
    "type_of_apt.plot.bar()"
   ]
  },
  {
   "cell_type": "code",
   "execution_count": 95,
   "metadata": {},
   "outputs": [
    {
     "data": {
      "text/plain": [
       "<matplotlib.axes._subplots.AxesSubplot at 0x23e5a320>"
      ]
     },
     "execution_count": 95,
     "metadata": {},
     "output_type": "execute_result"
    },
    {
     "data": {
      "image/png": "[encoded data removed]",
      "text/plain": [
       "<Figure size 432x288 with 1 Axes>"
      ]
     },
     "metadata": {
      "needs_background": "light"
     },
     "output_type": "display_data"
    }
   ],
   "source": [
    "occp=df.Occupation.value_counts()\n",
    "occp.plot.bar()"
   ]
  },
  {
   "cell_type": "code",
   "execution_count": 97,
   "metadata": {},
   "outputs": [
    {
     "data": {
      "text/plain": [
       "<matplotlib.axes._subplots.AxesSubplot at 0x23e63390>"
      ]
     },
     "execution_count": 97,
     "metadata": {},
     "output_type": "execute_result"
    },
    {
     "data": {
      "image/png": "[encoded data removed]",
      "text/plain": [
       "<Figure size 432x288 with 1 Axes>"
      ]
     },
     "metadata": {
      "needs_background": "light"
     },
     "output_type": "display_data"
    }
   ],
   "source": [
    "phone=df.Telephone.value_counts()\n",
    "phone.plot.bar()"
   ]
  },
  {
   "cell_type": "code",
   "execution_count": 98,
   "metadata": {},
   "outputs": [
    {
     "data": {
      "text/plain": [
       "<matplotlib.axes._subplots.AxesSubplot at 0x23f270f0>"
      ]
     },
     "execution_count": 98,
     "metadata": {},
     "output_type": "execute_result"
    },
    {
     "data": {
      "image/png": "[encoded data removed]",
      "text/plain": [
       "<Figure size 432x288 with 1 Axes>"
      ]
     },
     "metadata": {
      "needs_background": "light"
     },
     "output_type": "display_data"
    }
   ],
   "source": [
    "foreign_work=df.Foreign_Worker.value_counts()\n",
    "foreign_work.plot.bar()"
   ]
  },
  {
   "cell_type": "code",
   "execution_count": null,
   "metadata": {},
   "outputs": [],
   "source": []
  },
  {
   "cell_type": "code",
   "execution_count": null,
   "metadata": {},
   "outputs": [],
   "source": []
  },
  {
   "cell_type": "code",
   "execution_count": null,
   "metadata": {},
   "outputs": [],
   "source": []
  },
  {
   "cell_type": "code",
   "execution_count": null,
   "metadata": {},
   "outputs": [],
   "source": []
  },
  {
   "cell_type": "code",
   "execution_count": null,
   "metadata": {},
   "outputs": [],
   "source": []
  }
 ],
 "metadata": {
  "kernelspec": {
   "display_name": "Python 3",
   "language": "python",
   "name": "python3"
  },
  "language_info": {
   "codemirror_mode": {
    "name": "ipython",
    "version": 3
   },
   "file_extension": ".py",
   "mimetype": "text/x-python",
   "name": "python",
   "nbconvert_exporter": "python",
   "pygments_lexer": "ipython3",
   "version": "3.7.2"
  }
 },
 "nbformat": 4,
 "nbformat_minor": 2
}
